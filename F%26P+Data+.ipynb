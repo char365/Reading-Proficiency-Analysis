{
 "cells": [
  {
   "cell_type": "code",
   "execution_count": 100,
   "metadata": {
    "collapsed": true
   },
   "outputs": [],
   "source": [
    "import pandas as pd\n",
    "import numpy as np \n",
    "from scipy import stats\n",
    "import seaborn as sns \n",
    "import matplotlib.pyplot as plt \n",
    "\n",
    "%matplotlib inline "
   ]
  },
  {
   "cell_type": "code",
   "execution_count": 2,
   "metadata": {
    "collapsed": true
   },
   "outputs": [],
   "source": [
    "df = pd.read_csv(\"https://docs.google.com/spreadsheets/d/e/2PACX-1vT4MV-jCI7JZ5glq5YmcLCNs0lrQKb-Nyr63LPmXV9BFpXKsx3JJTx4oa5unSB4tZMwO-UCaG65x96Z/pub?output=csv\")"
   ]
  },
  {
   "cell_type": "code",
   "execution_count": 3,
   "metadata": {},
   "outputs": [
    {
     "data": {
      "text/html": [
       "<div>\n",
       "<style>\n",
       "    .dataframe thead tr:only-child th {\n",
       "        text-align: right;\n",
       "    }\n",
       "\n",
       "    .dataframe thead th {\n",
       "        text-align: left;\n",
       "    }\n",
       "\n",
       "    .dataframe tbody tr th {\n",
       "        vertical-align: top;\n",
       "    }\n",
       "</style>\n",
       "<table border=\"1\" class=\"dataframe\">\n",
       "  <thead>\n",
       "    <tr style=\"text-align: right;\">\n",
       "      <th></th>\n",
       "      <th>Student ID</th>\n",
       "      <th>School Name</th>\n",
       "      <th>Grade Level</th>\n",
       "      <th>BOY F&amp;P Score</th>\n",
       "      <th>BOY</th>\n",
       "      <th>EOY F&amp;P Score</th>\n",
       "      <th>EOY</th>\n",
       "    </tr>\n",
       "  </thead>\n",
       "  <tbody>\n",
       "    <tr>\n",
       "      <th>0</th>\n",
       "      <td>10000001</td>\n",
       "      <td>Bushwick Middle School</td>\n",
       "      <td>5</td>\n",
       "      <td>11.0</td>\n",
       "      <td>Below Proficient</td>\n",
       "      <td>16.0</td>\n",
       "      <td>Advanced</td>\n",
       "    </tr>\n",
       "    <tr>\n",
       "      <th>1</th>\n",
       "      <td>10000002</td>\n",
       "      <td>Bushwick Middle School</td>\n",
       "      <td>5</td>\n",
       "      <td>11.0</td>\n",
       "      <td>Below Proficient</td>\n",
       "      <td>16.0</td>\n",
       "      <td>Advanced</td>\n",
       "    </tr>\n",
       "    <tr>\n",
       "      <th>2</th>\n",
       "      <td>10000003</td>\n",
       "      <td>Crown Heights Middle School</td>\n",
       "      <td>5</td>\n",
       "      <td>11.0</td>\n",
       "      <td>Below Proficient</td>\n",
       "      <td>16.0</td>\n",
       "      <td>Advanced</td>\n",
       "    </tr>\n",
       "    <tr>\n",
       "      <th>3</th>\n",
       "      <td>10000004</td>\n",
       "      <td>Bushwick Middle School</td>\n",
       "      <td>5</td>\n",
       "      <td>11.0</td>\n",
       "      <td>Below Proficient</td>\n",
       "      <td>16.0</td>\n",
       "      <td>Advanced</td>\n",
       "    </tr>\n",
       "    <tr>\n",
       "      <th>4</th>\n",
       "      <td>10000005</td>\n",
       "      <td>Bushwick Middle School</td>\n",
       "      <td>5</td>\n",
       "      <td>11.0</td>\n",
       "      <td>Below Proficient</td>\n",
       "      <td>14.0</td>\n",
       "      <td>Proficient</td>\n",
       "    </tr>\n",
       "  </tbody>\n",
       "</table>\n",
       "</div>"
      ],
      "text/plain": [
       "   Student ID                  School Name  Grade Level  BOY F&P Score  \\\n",
       "0    10000001       Bushwick Middle School            5           11.0   \n",
       "1    10000002       Bushwick Middle School            5           11.0   \n",
       "2    10000003  Crown Heights Middle School            5           11.0   \n",
       "3    10000004       Bushwick Middle School            5           11.0   \n",
       "4    10000005       Bushwick Middle School            5           11.0   \n",
       "\n",
       "                BOY  EOY F&P Score         EOY  \n",
       "0  Below Proficient           16.0    Advanced  \n",
       "1  Below Proficient           16.0    Advanced  \n",
       "2  Below Proficient           16.0    Advanced  \n",
       "3  Below Proficient           16.0    Advanced  \n",
       "4  Below Proficient           14.0  Proficient  "
      ]
     },
     "execution_count": 3,
     "metadata": {},
     "output_type": "execute_result"
    }
   ],
   "source": [
    "df.head()"
   ]
  },
  {
   "cell_type": "code",
   "execution_count": 4,
   "metadata": {},
   "outputs": [
    {
     "data": {
      "text/plain": [
       "(376, 7)"
      ]
     },
     "execution_count": 4,
     "metadata": {},
     "output_type": "execute_result"
    }
   ],
   "source": [
    "df.shape"
   ]
  },
  {
   "cell_type": "code",
   "execution_count": 5,
   "metadata": {},
   "outputs": [
    {
     "name": "stdout",
     "output_type": "stream",
     "text": [
      "<class 'pandas.core.frame.DataFrame'>\n",
      "RangeIndex: 376 entries, 0 to 375\n",
      "Data columns (total 7 columns):\n",
      "Student ID       376 non-null int64\n",
      "School Name      376 non-null object\n",
      "Grade Level      376 non-null int64\n",
      "BOY F&P Score    279 non-null float64\n",
      "BOY              278 non-null object\n",
      "EOY F&P Score    366 non-null float64\n",
      "EOY              366 non-null object\n",
      "dtypes: float64(2), int64(2), object(3)\n",
      "memory usage: 20.6+ KB\n"
     ]
    }
   ],
   "source": [
    "df.info()"
   ]
  },
  {
   "cell_type": "code",
   "execution_count": 6,
   "metadata": {},
   "outputs": [
    {
     "data": {
      "text/html": [
       "<div>\n",
       "<style>\n",
       "    .dataframe thead tr:only-child th {\n",
       "        text-align: right;\n",
       "    }\n",
       "\n",
       "    .dataframe thead th {\n",
       "        text-align: left;\n",
       "    }\n",
       "\n",
       "    .dataframe tbody tr th {\n",
       "        vertical-align: top;\n",
       "    }\n",
       "</style>\n",
       "<table border=\"1\" class=\"dataframe\">\n",
       "  <thead>\n",
       "    <tr style=\"text-align: right;\">\n",
       "      <th></th>\n",
       "      <th>Student ID</th>\n",
       "      <th>Grade Level</th>\n",
       "      <th>BOY F&amp;P Score</th>\n",
       "      <th>EOY F&amp;P Score</th>\n",
       "    </tr>\n",
       "  </thead>\n",
       "  <tbody>\n",
       "    <tr>\n",
       "      <th>count</th>\n",
       "      <td>3.760000e+02</td>\n",
       "      <td>376.000000</td>\n",
       "      <td>279.000000</td>\n",
       "      <td>366.000000</td>\n",
       "    </tr>\n",
       "    <tr>\n",
       "      <th>mean</th>\n",
       "      <td>1.000019e+07</td>\n",
       "      <td>5.529255</td>\n",
       "      <td>12.867384</td>\n",
       "      <td>16.390710</td>\n",
       "    </tr>\n",
       "    <tr>\n",
       "      <th>std</th>\n",
       "      <td>1.083334e+02</td>\n",
       "      <td>0.499808</td>\n",
       "      <td>2.572750</td>\n",
       "      <td>3.057946</td>\n",
       "    </tr>\n",
       "    <tr>\n",
       "      <th>min</th>\n",
       "      <td>1.000000e+07</td>\n",
       "      <td>5.000000</td>\n",
       "      <td>0.000000</td>\n",
       "      <td>9.000000</td>\n",
       "    </tr>\n",
       "    <tr>\n",
       "      <th>25%</th>\n",
       "      <td>1.000009e+07</td>\n",
       "      <td>5.000000</td>\n",
       "      <td>11.000000</td>\n",
       "      <td>14.000000</td>\n",
       "    </tr>\n",
       "    <tr>\n",
       "      <th>50%</th>\n",
       "      <td>1.000019e+07</td>\n",
       "      <td>6.000000</td>\n",
       "      <td>13.000000</td>\n",
       "      <td>16.000000</td>\n",
       "    </tr>\n",
       "    <tr>\n",
       "      <th>75%</th>\n",
       "      <td>1.000028e+07</td>\n",
       "      <td>6.000000</td>\n",
       "      <td>14.000000</td>\n",
       "      <td>19.000000</td>\n",
       "    </tr>\n",
       "    <tr>\n",
       "      <th>max</th>\n",
       "      <td>1.000038e+07</td>\n",
       "      <td>6.000000</td>\n",
       "      <td>21.000000</td>\n",
       "      <td>33.000000</td>\n",
       "    </tr>\n",
       "  </tbody>\n",
       "</table>\n",
       "</div>"
      ],
      "text/plain": [
       "         Student ID  Grade Level  BOY F&P Score  EOY F&P Score\n",
       "count  3.760000e+02   376.000000     279.000000     366.000000\n",
       "mean   1.000019e+07     5.529255      12.867384      16.390710\n",
       "std    1.083334e+02     0.499808       2.572750       3.057946\n",
       "min    1.000000e+07     5.000000       0.000000       9.000000\n",
       "25%    1.000009e+07     5.000000      11.000000      14.000000\n",
       "50%    1.000019e+07     6.000000      13.000000      16.000000\n",
       "75%    1.000028e+07     6.000000      14.000000      19.000000\n",
       "max    1.000038e+07     6.000000      21.000000      33.000000"
      ]
     },
     "execution_count": 6,
     "metadata": {},
     "output_type": "execute_result"
    }
   ],
   "source": [
    "df.describe()"
   ]
  },
  {
   "cell_type": "code",
   "execution_count": 200,
   "metadata": {},
   "outputs": [
    {
     "data": {
      "text/plain": [
       "Student ID       0\n",
       "School_Name      0\n",
       "Grade_Level      0\n",
       "BOY_FP_Score    97\n",
       "BOY             98\n",
       "EOY_FP_Score    10\n",
       "EOY             10\n",
       "dtype: int64"
      ]
     },
     "execution_count": 200,
     "metadata": {},
     "output_type": "execute_result"
    }
   ],
   "source": [
    "df.isnull().sum()"
   ]
  },
  {
   "cell_type": "code",
   "execution_count": 9,
   "metadata": {
    "collapsed": true
   },
   "outputs": [],
   "source": [
    "df = df.rename(columns={'BOY F&P Score':'BOY_FP_Score', 'EOY F&P Score':'EOY_FP_Score', 'Grade Level':'Grade_Level', 'School Name':'School_Name'})"
   ]
  },
  {
   "cell_type": "markdown",
   "metadata": {},
   "source": [
    "# DATA FRAME 2 (REMOVE ALL NULL VALUES)"
   ]
  },
  {
   "cell_type": "code",
   "execution_count": 10,
   "metadata": {},
   "outputs": [
    {
     "data": {
      "text/html": [
       "<div>\n",
       "<style>\n",
       "    .dataframe thead tr:only-child th {\n",
       "        text-align: right;\n",
       "    }\n",
       "\n",
       "    .dataframe thead th {\n",
       "        text-align: left;\n",
       "    }\n",
       "\n",
       "    .dataframe tbody tr th {\n",
       "        vertical-align: top;\n",
       "    }\n",
       "</style>\n",
       "<table border=\"1\" class=\"dataframe\">\n",
       "  <thead>\n",
       "    <tr style=\"text-align: right;\">\n",
       "      <th></th>\n",
       "      <th>Student ID</th>\n",
       "      <th>School_Name</th>\n",
       "      <th>Grade_Level</th>\n",
       "      <th>BOY_FP_Score</th>\n",
       "      <th>BOY</th>\n",
       "      <th>EOY_FP_Score</th>\n",
       "      <th>EOY</th>\n",
       "    </tr>\n",
       "  </thead>\n",
       "  <tbody>\n",
       "    <tr>\n",
       "      <th>count</th>\n",
       "      <td>2.680000e+02</td>\n",
       "      <td>268</td>\n",
       "      <td>268.000000</td>\n",
       "      <td>268.000000</td>\n",
       "      <td>268</td>\n",
       "      <td>268.000000</td>\n",
       "      <td>268</td>\n",
       "    </tr>\n",
       "    <tr>\n",
       "      <th>unique</th>\n",
       "      <td>NaN</td>\n",
       "      <td>2</td>\n",
       "      <td>NaN</td>\n",
       "      <td>NaN</td>\n",
       "      <td>4</td>\n",
       "      <td>NaN</td>\n",
       "      <td>4</td>\n",
       "    </tr>\n",
       "    <tr>\n",
       "      <th>top</th>\n",
       "      <td>NaN</td>\n",
       "      <td>Bushwick Middle School</td>\n",
       "      <td>NaN</td>\n",
       "      <td>NaN</td>\n",
       "      <td>Proficient</td>\n",
       "      <td>NaN</td>\n",
       "      <td>Advanced</td>\n",
       "    </tr>\n",
       "    <tr>\n",
       "      <th>freq</th>\n",
       "      <td>NaN</td>\n",
       "      <td>180</td>\n",
       "      <td>NaN</td>\n",
       "      <td>NaN</td>\n",
       "      <td>94</td>\n",
       "      <td>NaN</td>\n",
       "      <td>108</td>\n",
       "    </tr>\n",
       "    <tr>\n",
       "      <th>mean</th>\n",
       "      <td>1.000017e+07</td>\n",
       "      <td>NaN</td>\n",
       "      <td>5.406716</td>\n",
       "      <td>12.947761</td>\n",
       "      <td>NaN</td>\n",
       "      <td>15.712687</td>\n",
       "      <td>NaN</td>\n",
       "    </tr>\n",
       "    <tr>\n",
       "      <th>std</th>\n",
       "      <td>1.071991e+02</td>\n",
       "      <td>NaN</td>\n",
       "      <td>0.492140</td>\n",
       "      <td>2.476306</td>\n",
       "      <td>NaN</td>\n",
       "      <td>2.852738</td>\n",
       "      <td>NaN</td>\n",
       "    </tr>\n",
       "    <tr>\n",
       "      <th>min</th>\n",
       "      <td>1.000000e+07</td>\n",
       "      <td>NaN</td>\n",
       "      <td>5.000000</td>\n",
       "      <td>7.000000</td>\n",
       "      <td>NaN</td>\n",
       "      <td>9.000000</td>\n",
       "      <td>NaN</td>\n",
       "    </tr>\n",
       "    <tr>\n",
       "      <th>25%</th>\n",
       "      <td>1.000007e+07</td>\n",
       "      <td>NaN</td>\n",
       "      <td>5.000000</td>\n",
       "      <td>11.000000</td>\n",
       "      <td>NaN</td>\n",
       "      <td>14.000000</td>\n",
       "      <td>NaN</td>\n",
       "    </tr>\n",
       "    <tr>\n",
       "      <th>50%</th>\n",
       "      <td>1.000015e+07</td>\n",
       "      <td>NaN</td>\n",
       "      <td>5.000000</td>\n",
       "      <td>13.000000</td>\n",
       "      <td>NaN</td>\n",
       "      <td>15.500000</td>\n",
       "      <td>NaN</td>\n",
       "    </tr>\n",
       "    <tr>\n",
       "      <th>75%</th>\n",
       "      <td>1.000025e+07</td>\n",
       "      <td>NaN</td>\n",
       "      <td>6.000000</td>\n",
       "      <td>14.000000</td>\n",
       "      <td>NaN</td>\n",
       "      <td>18.000000</td>\n",
       "      <td>NaN</td>\n",
       "    </tr>\n",
       "    <tr>\n",
       "      <th>max</th>\n",
       "      <td>1.000037e+07</td>\n",
       "      <td>NaN</td>\n",
       "      <td>6.000000</td>\n",
       "      <td>21.000000</td>\n",
       "      <td>NaN</td>\n",
       "      <td>22.000000</td>\n",
       "      <td>NaN</td>\n",
       "    </tr>\n",
       "  </tbody>\n",
       "</table>\n",
       "</div>"
      ],
      "text/plain": [
       "          Student ID             School_Name  Grade_Level  BOY_FP_Score  \\\n",
       "count   2.680000e+02                     268   268.000000    268.000000   \n",
       "unique           NaN                       2          NaN           NaN   \n",
       "top              NaN  Bushwick Middle School          NaN           NaN   \n",
       "freq             NaN                     180          NaN           NaN   \n",
       "mean    1.000017e+07                     NaN     5.406716     12.947761   \n",
       "std     1.071991e+02                     NaN     0.492140      2.476306   \n",
       "min     1.000000e+07                     NaN     5.000000      7.000000   \n",
       "25%     1.000007e+07                     NaN     5.000000     11.000000   \n",
       "50%     1.000015e+07                     NaN     5.000000     13.000000   \n",
       "75%     1.000025e+07                     NaN     6.000000     14.000000   \n",
       "max     1.000037e+07                     NaN     6.000000     21.000000   \n",
       "\n",
       "               BOY  EOY_FP_Score       EOY  \n",
       "count          268    268.000000       268  \n",
       "unique           4           NaN         4  \n",
       "top     Proficient           NaN  Advanced  \n",
       "freq            94           NaN       108  \n",
       "mean           NaN     15.712687       NaN  \n",
       "std            NaN      2.852738       NaN  \n",
       "min            NaN      9.000000       NaN  \n",
       "25%            NaN     14.000000       NaN  \n",
       "50%            NaN     15.500000       NaN  \n",
       "75%            NaN     18.000000       NaN  \n",
       "max            NaN     22.000000       NaN  "
      ]
     },
     "execution_count": 10,
     "metadata": {},
     "output_type": "execute_result"
    }
   ],
   "source": [
    "df2 = df.dropna()\n",
    "df2.describe(include=\"all\")"
   ]
  },
  {
   "cell_type": "code",
   "execution_count": 11,
   "metadata": {},
   "outputs": [
    {
     "data": {
      "text/plain": [
       "Student ID      0\n",
       "School_Name     0\n",
       "Grade_Level     0\n",
       "BOY_FP_Score    0\n",
       "BOY             0\n",
       "EOY_FP_Score    0\n",
       "EOY             0\n",
       "dtype: int64"
      ]
     },
     "execution_count": 11,
     "metadata": {},
     "output_type": "execute_result"
    }
   ],
   "source": [
    "df2.isnull().sum()"
   ]
  },
  {
   "cell_type": "code",
   "execution_count": 12,
   "metadata": {},
   "outputs": [
    {
     "data": {
      "text/plain": [
       "(268, 7)"
      ]
     },
     "execution_count": 12,
     "metadata": {},
     "output_type": "execute_result"
    }
   ],
   "source": [
    "df2.shape"
   ]
  },
  {
   "cell_type": "code",
   "execution_count": 13,
   "metadata": {},
   "outputs": [
    {
     "data": {
      "text/plain": [
       "Bushwick Middle School         180\n",
       "Crown Heights Middle School     88\n",
       "Name: School_Name, dtype: int64"
      ]
     },
     "execution_count": 13,
     "metadata": {},
     "output_type": "execute_result"
    }
   ],
   "source": [
    "df2.School_Name.value_counts()"
   ]
  },
  {
   "cell_type": "code",
   "execution_count": 14,
   "metadata": {},
   "outputs": [
    {
     "data": {
      "text/plain": [
       "Advanced            108\n",
       "Proficient           90\n",
       "Below Proficient     48\n",
       "Remedial             22\n",
       "Name: EOY, dtype: int64"
      ]
     },
     "execution_count": 14,
     "metadata": {},
     "output_type": "execute_result"
    }
   ],
   "source": [
    "df2.EOY.value_counts()"
   ]
  },
  {
   "cell_type": "code",
   "execution_count": 15,
   "metadata": {},
   "outputs": [
    {
     "data": {
      "text/plain": [
       "Proficient          94\n",
       "Below Proficient    76\n",
       "Advanced            70\n",
       "Remedial            28\n",
       "Name: BOY, dtype: int64"
      ]
     },
     "execution_count": 15,
     "metadata": {},
     "output_type": "execute_result"
    }
   ],
   "source": [
    "df2.BOY.value_counts()"
   ]
  },
  {
   "cell_type": "code",
   "execution_count": 116,
   "metadata": {},
   "outputs": [
    {
     "data": {
      "image/png": "[encoded data removed]",
      "text/plain": [
       "<matplotlib.figure.Figure at 0xcf2bcc0>"
      ]
     },
     "metadata": {},
     "output_type": "display_data"
    }
   ],
   "source": [
    "ax = sns.boxplot(x=\"Grade_Level\", y=\"BOY_FP_Score\", data=df2)"
   ]
  },
  {
   "cell_type": "code",
   "execution_count": 117,
   "metadata": {},
   "outputs": [
    {
     "data": {
      "image/png": "[encoded data removed]",
      "text/plain": [
       "<matplotlib.figure.Figure at 0xeda4e10>"
      ]
     },
     "metadata": {},
     "output_type": "display_data"
    }
   ],
   "source": [
    "sns.boxplot(x=\"School_Name\", y=\"BOY_FP_Score\", hue=\"Grade_Level\", data=df2);"
   ]
  },
  {
   "cell_type": "code",
   "execution_count": 119,
   "metadata": {},
   "outputs": [
    {
     "data": {
      "image/png": "[encoded data removed]",
      "text/plain": [
       "<matplotlib.figure.Figure at 0xe2579e8>"
      ]
     },
     "metadata": {},
     "output_type": "display_data"
    }
   ],
   "source": [
    "ax = sns.boxplot(x=\"Grade_Level\", y=\"EOY_FP_Score\", data=df2)"
   ]
  },
  {
   "cell_type": "code",
   "execution_count": 118,
   "metadata": {},
   "outputs": [
    {
     "data": {
      "image/png": "[encoded data removed]",
      "text/plain": [
       "<matplotlib.figure.Figure at 0xe4f02e8>"
      ]
     },
     "metadata": {},
     "output_type": "display_data"
    }
   ],
   "source": [
    "sns.boxplot(x=\"School_Name\", y=\"EOY_FP_Score\", hue=\"Grade_Level\", data=df2);"
   ]
  },
  {
   "cell_type": "code",
   "execution_count": 114,
   "metadata": {},
   "outputs": [
    {
     "data": {
      "image/png": "[encoded data removed]",
      "text/plain": [
       "<matplotlib.figure.Figure at 0xed9e358>"
      ]
     },
     "metadata": {},
     "output_type": "display_data"
    }
   ],
   "source": [
    "p1=sns.kdeplot(df2['BOY_FP_Score'], shade=True, color=\"skyblue\", label='DF2')\n",
    "p1=sns.kdeplot(df3['BOY_FP_Score'], shade=True, color=\"gold\",label='DF3')\n",
    "plt.title('Data Frame Distribution Comparison: Beginning of Year FP Score');"
   ]
  },
  {
   "cell_type": "code",
   "execution_count": 115,
   "metadata": {},
   "outputs": [
    {
     "data": {
      "image/png": "[encoded data removed]",
      "text/plain": [
       "<matplotlib.figure.Figure at 0xcf2b128>"
      ]
     },
     "metadata": {},
     "output_type": "display_data"
    }
   ],
   "source": [
    "p1=sns.kdeplot(df2['EOY_FP_Score'], shade=True, color=\"skyblue\", label='DF2')\n",
    "p1=sns.kdeplot(df3['EOY_FP_Score'], shade=True, color=\"gold\",label='DF3')\n",
    "plt.title('Data Frame Distribution Comparison: End of Year FP Score');"
   ]
  },
  {
   "cell_type": "markdown",
   "metadata": {},
   "source": [
    "## Data Frame 2 Subsets"
   ]
  },
  {
   "cell_type": "code",
   "execution_count": 16,
   "metadata": {},
   "outputs": [
    {
     "data": {
      "text/html": [
       "<div>\n",
       "<style>\n",
       "    .dataframe thead tr:only-child th {\n",
       "        text-align: right;\n",
       "    }\n",
       "\n",
       "    .dataframe thead th {\n",
       "        text-align: left;\n",
       "    }\n",
       "\n",
       "    .dataframe tbody tr th {\n",
       "        vertical-align: top;\n",
       "    }\n",
       "</style>\n",
       "<table border=\"1\" class=\"dataframe\">\n",
       "  <thead>\n",
       "    <tr style=\"text-align: right;\">\n",
       "      <th></th>\n",
       "      <th>Student ID</th>\n",
       "      <th>School_Name</th>\n",
       "      <th>Grade_Level</th>\n",
       "      <th>BOY_FP_Score</th>\n",
       "      <th>BOY</th>\n",
       "      <th>EOY_FP_Score</th>\n",
       "      <th>EOY</th>\n",
       "    </tr>\n",
       "  </thead>\n",
       "  <tbody>\n",
       "    <tr>\n",
       "      <th>2</th>\n",
       "      <td>10000003</td>\n",
       "      <td>Crown Heights Middle School</td>\n",
       "      <td>5</td>\n",
       "      <td>11.0</td>\n",
       "      <td>Below Proficient</td>\n",
       "      <td>16.0</td>\n",
       "      <td>Advanced</td>\n",
       "    </tr>\n",
       "    <tr>\n",
       "      <th>7</th>\n",
       "      <td>10000008</td>\n",
       "      <td>Crown Heights Middle School</td>\n",
       "      <td>5</td>\n",
       "      <td>13.0</td>\n",
       "      <td>Proficient</td>\n",
       "      <td>14.0</td>\n",
       "      <td>Proficient</td>\n",
       "    </tr>\n",
       "    <tr>\n",
       "      <th>8</th>\n",
       "      <td>10000009</td>\n",
       "      <td>Crown Heights Middle School</td>\n",
       "      <td>5</td>\n",
       "      <td>13.0</td>\n",
       "      <td>Proficient</td>\n",
       "      <td>11.0</td>\n",
       "      <td>Remedial</td>\n",
       "    </tr>\n",
       "    <tr>\n",
       "      <th>9</th>\n",
       "      <td>10000010</td>\n",
       "      <td>Crown Heights Middle School</td>\n",
       "      <td>5</td>\n",
       "      <td>14.0</td>\n",
       "      <td>Advanced</td>\n",
       "      <td>15.0</td>\n",
       "      <td>Proficient</td>\n",
       "    </tr>\n",
       "    <tr>\n",
       "      <th>10</th>\n",
       "      <td>10000011</td>\n",
       "      <td>Crown Heights Middle School</td>\n",
       "      <td>5</td>\n",
       "      <td>13.0</td>\n",
       "      <td>Proficient</td>\n",
       "      <td>14.0</td>\n",
       "      <td>Proficient</td>\n",
       "    </tr>\n",
       "  </tbody>\n",
       "</table>\n",
       "</div>"
      ],
      "text/plain": [
       "    Student ID                  School_Name  Grade_Level  BOY_FP_Score  \\\n",
       "2     10000003  Crown Heights Middle School            5          11.0   \n",
       "7     10000008  Crown Heights Middle School            5          13.0   \n",
       "8     10000009  Crown Heights Middle School            5          13.0   \n",
       "9     10000010  Crown Heights Middle School            5          14.0   \n",
       "10    10000011  Crown Heights Middle School            5          13.0   \n",
       "\n",
       "                 BOY  EOY_FP_Score         EOY  \n",
       "2   Below Proficient          16.0    Advanced  \n",
       "7         Proficient          14.0  Proficient  \n",
       "8         Proficient          11.0    Remedial  \n",
       "9           Advanced          15.0  Proficient  \n",
       "10        Proficient          14.0  Proficient  "
      ]
     },
     "execution_count": 16,
     "metadata": {},
     "output_type": "execute_result"
    }
   ],
   "source": [
    "crown_heights = df2[df2['School_Name']== 'Crown Heights Middle School']\n",
    "crown_heights.head()"
   ]
  },
  {
   "cell_type": "code",
   "execution_count": 152,
   "metadata": {},
   "outputs": [
    {
     "data": {
      "text/html": [
       "<div>\n",
       "<style>\n",
       "    .dataframe thead tr:only-child th {\n",
       "        text-align: right;\n",
       "    }\n",
       "\n",
       "    .dataframe thead th {\n",
       "        text-align: left;\n",
       "    }\n",
       "\n",
       "    .dataframe tbody tr th {\n",
       "        vertical-align: top;\n",
       "    }\n",
       "</style>\n",
       "<table border=\"1\" class=\"dataframe\">\n",
       "  <thead>\n",
       "    <tr style=\"text-align: right;\">\n",
       "      <th></th>\n",
       "      <th>Student ID</th>\n",
       "      <th>School_Name</th>\n",
       "      <th>Grade_Level</th>\n",
       "      <th>BOY_FP_Score</th>\n",
       "      <th>BOY</th>\n",
       "      <th>EOY_FP_Score</th>\n",
       "      <th>EOY</th>\n",
       "    </tr>\n",
       "  </thead>\n",
       "  <tbody>\n",
       "    <tr>\n",
       "      <th>2</th>\n",
       "      <td>10000003</td>\n",
       "      <td>Crown Heights Middle School</td>\n",
       "      <td>5</td>\n",
       "      <td>11.0</td>\n",
       "      <td>Below Proficient</td>\n",
       "      <td>16.0</td>\n",
       "      <td>Advanced</td>\n",
       "    </tr>\n",
       "    <tr>\n",
       "      <th>7</th>\n",
       "      <td>10000008</td>\n",
       "      <td>Crown Heights Middle School</td>\n",
       "      <td>5</td>\n",
       "      <td>13.0</td>\n",
       "      <td>Proficient</td>\n",
       "      <td>14.0</td>\n",
       "      <td>Proficient</td>\n",
       "    </tr>\n",
       "    <tr>\n",
       "      <th>8</th>\n",
       "      <td>10000009</td>\n",
       "      <td>Crown Heights Middle School</td>\n",
       "      <td>5</td>\n",
       "      <td>13.0</td>\n",
       "      <td>Proficient</td>\n",
       "      <td>11.0</td>\n",
       "      <td>Remedial</td>\n",
       "    </tr>\n",
       "    <tr>\n",
       "      <th>9</th>\n",
       "      <td>10000010</td>\n",
       "      <td>Crown Heights Middle School</td>\n",
       "      <td>5</td>\n",
       "      <td>14.0</td>\n",
       "      <td>Advanced</td>\n",
       "      <td>15.0</td>\n",
       "      <td>Proficient</td>\n",
       "    </tr>\n",
       "    <tr>\n",
       "      <th>10</th>\n",
       "      <td>10000011</td>\n",
       "      <td>Crown Heights Middle School</td>\n",
       "      <td>5</td>\n",
       "      <td>13.0</td>\n",
       "      <td>Proficient</td>\n",
       "      <td>14.0</td>\n",
       "      <td>Proficient</td>\n",
       "    </tr>\n",
       "  </tbody>\n",
       "</table>\n",
       "</div>"
      ],
      "text/plain": [
       "    Student ID                  School_Name  Grade_Level  BOY_FP_Score  \\\n",
       "2     10000003  Crown Heights Middle School            5          11.0   \n",
       "7     10000008  Crown Heights Middle School            5          13.0   \n",
       "8     10000009  Crown Heights Middle School            5          13.0   \n",
       "9     10000010  Crown Heights Middle School            5          14.0   \n",
       "10    10000011  Crown Heights Middle School            5          13.0   \n",
       "\n",
       "                 BOY  EOY_FP_Score         EOY  \n",
       "2   Below Proficient          16.0    Advanced  \n",
       "7         Proficient          14.0  Proficient  \n",
       "8         Proficient          11.0    Remedial  \n",
       "9           Advanced          15.0  Proficient  \n",
       "10        Proficient          14.0  Proficient  "
      ]
     },
     "execution_count": 152,
     "metadata": {},
     "output_type": "execute_result"
    }
   ],
   "source": [
    "crown_heights_5 = crown_heights[crown_heights['Grade_Level']== 5]\n",
    "crown_heights_5.head()"
   ]
  },
  {
   "cell_type": "code",
   "execution_count": 153,
   "metadata": {},
   "outputs": [
    {
     "name": "stdout",
     "output_type": "stream",
     "text": [
      "<class 'pandas.core.frame.DataFrame'>\n",
      "Int64Index: 73 entries, 2 to 238\n",
      "Data columns (total 7 columns):\n",
      "Student ID      73 non-null int64\n",
      "School_Name     73 non-null object\n",
      "Grade_Level     73 non-null int64\n",
      "BOY_FP_Score    73 non-null float64\n",
      "BOY             73 non-null object\n",
      "EOY_FP_Score    73 non-null float64\n",
      "EOY             73 non-null object\n",
      "dtypes: float64(2), int64(2), object(3)\n",
      "memory usage: 4.6+ KB\n"
     ]
    }
   ],
   "source": [
    "crown_heights_5.info()"
   ]
  },
  {
   "cell_type": "code",
   "execution_count": 18,
   "metadata": {},
   "outputs": [
    {
     "data": {
      "text/html": [
       "<div>\n",
       "<style>\n",
       "    .dataframe thead tr:only-child th {\n",
       "        text-align: right;\n",
       "    }\n",
       "\n",
       "    .dataframe thead th {\n",
       "        text-align: left;\n",
       "    }\n",
       "\n",
       "    .dataframe tbody tr th {\n",
       "        vertical-align: top;\n",
       "    }\n",
       "</style>\n",
       "<table border=\"1\" class=\"dataframe\">\n",
       "  <thead>\n",
       "    <tr style=\"text-align: right;\">\n",
       "      <th></th>\n",
       "      <th>Student ID</th>\n",
       "      <th>School_Name</th>\n",
       "      <th>Grade_Level</th>\n",
       "      <th>BOY_FP_Score</th>\n",
       "      <th>BOY</th>\n",
       "      <th>EOY_FP_Score</th>\n",
       "      <th>EOY</th>\n",
       "    </tr>\n",
       "  </thead>\n",
       "  <tbody>\n",
       "    <tr>\n",
       "      <th>169</th>\n",
       "      <td>10000170</td>\n",
       "      <td>Crown Heights Middle School</td>\n",
       "      <td>6</td>\n",
       "      <td>15.0</td>\n",
       "      <td>Proficient</td>\n",
       "      <td>22.0</td>\n",
       "      <td>Advanced</td>\n",
       "    </tr>\n",
       "    <tr>\n",
       "      <th>186</th>\n",
       "      <td>10000187</td>\n",
       "      <td>Crown Heights Middle School</td>\n",
       "      <td>6</td>\n",
       "      <td>20.0</td>\n",
       "      <td>Advanced</td>\n",
       "      <td>15.0</td>\n",
       "      <td>Below Proficient</td>\n",
       "    </tr>\n",
       "    <tr>\n",
       "      <th>232</th>\n",
       "      <td>10000233</td>\n",
       "      <td>Crown Heights Middle School</td>\n",
       "      <td>6</td>\n",
       "      <td>19.0</td>\n",
       "      <td>Advanced</td>\n",
       "      <td>20.0</td>\n",
       "      <td>Advanced</td>\n",
       "    </tr>\n",
       "    <tr>\n",
       "      <th>248</th>\n",
       "      <td>10000249</td>\n",
       "      <td>Crown Heights Middle School</td>\n",
       "      <td>6</td>\n",
       "      <td>19.0</td>\n",
       "      <td>Advanced</td>\n",
       "      <td>20.0</td>\n",
       "      <td>Advanced</td>\n",
       "    </tr>\n",
       "    <tr>\n",
       "      <th>253</th>\n",
       "      <td>10000254</td>\n",
       "      <td>Crown Heights Middle School</td>\n",
       "      <td>6</td>\n",
       "      <td>20.0</td>\n",
       "      <td>Advanced</td>\n",
       "      <td>19.0</td>\n",
       "      <td>Advanced</td>\n",
       "    </tr>\n",
       "  </tbody>\n",
       "</table>\n",
       "</div>"
      ],
      "text/plain": [
       "     Student ID                  School_Name  Grade_Level  BOY_FP_Score  \\\n",
       "169    10000170  Crown Heights Middle School            6          15.0   \n",
       "186    10000187  Crown Heights Middle School            6          20.0   \n",
       "232    10000233  Crown Heights Middle School            6          19.0   \n",
       "248    10000249  Crown Heights Middle School            6          19.0   \n",
       "253    10000254  Crown Heights Middle School            6          20.0   \n",
       "\n",
       "            BOY  EOY_FP_Score               EOY  \n",
       "169  Proficient          22.0          Advanced  \n",
       "186    Advanced          15.0  Below Proficient  \n",
       "232    Advanced          20.0          Advanced  \n",
       "248    Advanced          20.0          Advanced  \n",
       "253    Advanced          19.0          Advanced  "
      ]
     },
     "execution_count": 18,
     "metadata": {},
     "output_type": "execute_result"
    }
   ],
   "source": [
    "crown_heights_6 = crown_heights[crown_heights['Grade_Level']== 6]\n",
    "crown_heights_6.head()"
   ]
  },
  {
   "cell_type": "code",
   "execution_count": 36,
   "metadata": {},
   "outputs": [
    {
     "name": "stdout",
     "output_type": "stream",
     "text": [
      "<class 'pandas.core.frame.DataFrame'>\n",
      "Int64Index: 15 entries, 169 to 369\n",
      "Data columns (total 7 columns):\n",
      "Student ID      15 non-null int64\n",
      "School_Name     15 non-null object\n",
      "Grade_Level     15 non-null int64\n",
      "BOY_FP_Score    15 non-null float64\n",
      "BOY             15 non-null object\n",
      "EOY_FP_Score    15 non-null float64\n",
      "EOY             15 non-null object\n",
      "dtypes: float64(2), int64(2), object(3)\n",
      "memory usage: 960.0+ bytes\n"
     ]
    }
   ],
   "source": [
    "crown_heights_6.info()"
   ]
  },
  {
   "cell_type": "code",
   "execution_count": 26,
   "metadata": {},
   "outputs": [
    {
     "data": {
      "text/html": [
       "<div>\n",
       "<style>\n",
       "    .dataframe thead tr:only-child th {\n",
       "        text-align: right;\n",
       "    }\n",
       "\n",
       "    .dataframe thead th {\n",
       "        text-align: left;\n",
       "    }\n",
       "\n",
       "    .dataframe tbody tr th {\n",
       "        vertical-align: top;\n",
       "    }\n",
       "</style>\n",
       "<table border=\"1\" class=\"dataframe\">\n",
       "  <thead>\n",
       "    <tr style=\"text-align: right;\">\n",
       "      <th></th>\n",
       "      <th>Student ID</th>\n",
       "      <th>School_Name</th>\n",
       "      <th>Grade_Level</th>\n",
       "      <th>BOY_FP_Score</th>\n",
       "      <th>BOY</th>\n",
       "      <th>EOY_FP_Score</th>\n",
       "      <th>EOY</th>\n",
       "    </tr>\n",
       "  </thead>\n",
       "  <tbody>\n",
       "    <tr>\n",
       "      <th>0</th>\n",
       "      <td>10000001</td>\n",
       "      <td>Bushwick Middle School</td>\n",
       "      <td>5</td>\n",
       "      <td>11.0</td>\n",
       "      <td>Below Proficient</td>\n",
       "      <td>16.0</td>\n",
       "      <td>Advanced</td>\n",
       "    </tr>\n",
       "    <tr>\n",
       "      <th>1</th>\n",
       "      <td>10000002</td>\n",
       "      <td>Bushwick Middle School</td>\n",
       "      <td>5</td>\n",
       "      <td>11.0</td>\n",
       "      <td>Below Proficient</td>\n",
       "      <td>16.0</td>\n",
       "      <td>Advanced</td>\n",
       "    </tr>\n",
       "    <tr>\n",
       "      <th>3</th>\n",
       "      <td>10000004</td>\n",
       "      <td>Bushwick Middle School</td>\n",
       "      <td>5</td>\n",
       "      <td>11.0</td>\n",
       "      <td>Below Proficient</td>\n",
       "      <td>16.0</td>\n",
       "      <td>Advanced</td>\n",
       "    </tr>\n",
       "    <tr>\n",
       "      <th>4</th>\n",
       "      <td>10000005</td>\n",
       "      <td>Bushwick Middle School</td>\n",
       "      <td>5</td>\n",
       "      <td>11.0</td>\n",
       "      <td>Below Proficient</td>\n",
       "      <td>14.0</td>\n",
       "      <td>Proficient</td>\n",
       "    </tr>\n",
       "    <tr>\n",
       "      <th>5</th>\n",
       "      <td>10000006</td>\n",
       "      <td>Bushwick Middle School</td>\n",
       "      <td>5</td>\n",
       "      <td>11.0</td>\n",
       "      <td>Below Proficient</td>\n",
       "      <td>10.0</td>\n",
       "      <td>Remedial</td>\n",
       "    </tr>\n",
       "  </tbody>\n",
       "</table>\n",
       "</div>"
      ],
      "text/plain": [
       "   Student ID             School_Name  Grade_Level  BOY_FP_Score  \\\n",
       "0    10000001  Bushwick Middle School            5          11.0   \n",
       "1    10000002  Bushwick Middle School            5          11.0   \n",
       "3    10000004  Bushwick Middle School            5          11.0   \n",
       "4    10000005  Bushwick Middle School            5          11.0   \n",
       "5    10000006  Bushwick Middle School            5          11.0   \n",
       "\n",
       "                BOY  EOY_FP_Score         EOY  \n",
       "0  Below Proficient          16.0    Advanced  \n",
       "1  Below Proficient          16.0    Advanced  \n",
       "3  Below Proficient          16.0    Advanced  \n",
       "4  Below Proficient          14.0  Proficient  \n",
       "5  Below Proficient          10.0    Remedial  "
      ]
     },
     "execution_count": 26,
     "metadata": {},
     "output_type": "execute_result"
    }
   ],
   "source": [
    "bushwick = df2[df2['School_Name'] == 'Bushwick Middle School']\n",
    "bushwick.head()"
   ]
  },
  {
   "cell_type": "code",
   "execution_count": 27,
   "metadata": {},
   "outputs": [
    {
     "data": {
      "text/html": [
       "<div>\n",
       "<style>\n",
       "    .dataframe thead tr:only-child th {\n",
       "        text-align: right;\n",
       "    }\n",
       "\n",
       "    .dataframe thead th {\n",
       "        text-align: left;\n",
       "    }\n",
       "\n",
       "    .dataframe tbody tr th {\n",
       "        vertical-align: top;\n",
       "    }\n",
       "</style>\n",
       "<table border=\"1\" class=\"dataframe\">\n",
       "  <thead>\n",
       "    <tr style=\"text-align: right;\">\n",
       "      <th></th>\n",
       "      <th>Student ID</th>\n",
       "      <th>School_Name</th>\n",
       "      <th>Grade_Level</th>\n",
       "      <th>BOY_FP_Score</th>\n",
       "      <th>BOY</th>\n",
       "      <th>EOY_FP_Score</th>\n",
       "      <th>EOY</th>\n",
       "    </tr>\n",
       "  </thead>\n",
       "  <tbody>\n",
       "    <tr>\n",
       "      <th>0</th>\n",
       "      <td>10000001</td>\n",
       "      <td>Bushwick Middle School</td>\n",
       "      <td>5</td>\n",
       "      <td>11.0</td>\n",
       "      <td>Below Proficient</td>\n",
       "      <td>16.0</td>\n",
       "      <td>Advanced</td>\n",
       "    </tr>\n",
       "    <tr>\n",
       "      <th>1</th>\n",
       "      <td>10000002</td>\n",
       "      <td>Bushwick Middle School</td>\n",
       "      <td>5</td>\n",
       "      <td>11.0</td>\n",
       "      <td>Below Proficient</td>\n",
       "      <td>16.0</td>\n",
       "      <td>Advanced</td>\n",
       "    </tr>\n",
       "    <tr>\n",
       "      <th>3</th>\n",
       "      <td>10000004</td>\n",
       "      <td>Bushwick Middle School</td>\n",
       "      <td>5</td>\n",
       "      <td>11.0</td>\n",
       "      <td>Below Proficient</td>\n",
       "      <td>16.0</td>\n",
       "      <td>Advanced</td>\n",
       "    </tr>\n",
       "    <tr>\n",
       "      <th>4</th>\n",
       "      <td>10000005</td>\n",
       "      <td>Bushwick Middle School</td>\n",
       "      <td>5</td>\n",
       "      <td>11.0</td>\n",
       "      <td>Below Proficient</td>\n",
       "      <td>14.0</td>\n",
       "      <td>Proficient</td>\n",
       "    </tr>\n",
       "    <tr>\n",
       "      <th>5</th>\n",
       "      <td>10000006</td>\n",
       "      <td>Bushwick Middle School</td>\n",
       "      <td>5</td>\n",
       "      <td>11.0</td>\n",
       "      <td>Below Proficient</td>\n",
       "      <td>10.0</td>\n",
       "      <td>Remedial</td>\n",
       "    </tr>\n",
       "  </tbody>\n",
       "</table>\n",
       "</div>"
      ],
      "text/plain": [
       "   Student ID             School_Name  Grade_Level  BOY_FP_Score  \\\n",
       "0    10000001  Bushwick Middle School            5          11.0   \n",
       "1    10000002  Bushwick Middle School            5          11.0   \n",
       "3    10000004  Bushwick Middle School            5          11.0   \n",
       "4    10000005  Bushwick Middle School            5          11.0   \n",
       "5    10000006  Bushwick Middle School            5          11.0   \n",
       "\n",
       "                BOY  EOY_FP_Score         EOY  \n",
       "0  Below Proficient          16.0    Advanced  \n",
       "1  Below Proficient          16.0    Advanced  \n",
       "3  Below Proficient          16.0    Advanced  \n",
       "4  Below Proficient          14.0  Proficient  \n",
       "5  Below Proficient          10.0    Remedial  "
      ]
     },
     "execution_count": 27,
     "metadata": {},
     "output_type": "execute_result"
    }
   ],
   "source": [
    "bushwick_5 = bushwick[bushwick['Grade_Level'] == 5]\n",
    "bushwick_5.head()"
   ]
  },
  {
   "cell_type": "code",
   "execution_count": 30,
   "metadata": {},
   "outputs": [
    {
     "data": {
      "text/html": [
       "<div>\n",
       "<style>\n",
       "    .dataframe thead tr:only-child th {\n",
       "        text-align: right;\n",
       "    }\n",
       "\n",
       "    .dataframe thead th {\n",
       "        text-align: left;\n",
       "    }\n",
       "\n",
       "    .dataframe tbody tr th {\n",
       "        vertical-align: top;\n",
       "    }\n",
       "</style>\n",
       "<table border=\"1\" class=\"dataframe\">\n",
       "  <thead>\n",
       "    <tr style=\"text-align: right;\">\n",
       "      <th></th>\n",
       "      <th>Student ID</th>\n",
       "      <th>School_Name</th>\n",
       "      <th>Grade_Level</th>\n",
       "      <th>BOY_FP_Score</th>\n",
       "      <th>BOY</th>\n",
       "      <th>EOY_FP_Score</th>\n",
       "      <th>EOY</th>\n",
       "    </tr>\n",
       "  </thead>\n",
       "  <tbody>\n",
       "    <tr>\n",
       "      <th>124</th>\n",
       "      <td>10000125</td>\n",
       "      <td>Bushwick Middle School</td>\n",
       "      <td>6</td>\n",
       "      <td>15.0</td>\n",
       "      <td>Proficient</td>\n",
       "      <td>19.0</td>\n",
       "      <td>Advanced</td>\n",
       "    </tr>\n",
       "    <tr>\n",
       "      <th>132</th>\n",
       "      <td>10000133</td>\n",
       "      <td>Bushwick Middle School</td>\n",
       "      <td>6</td>\n",
       "      <td>12.0</td>\n",
       "      <td>Below Proficient</td>\n",
       "      <td>18.0</td>\n",
       "      <td>Advanced</td>\n",
       "    </tr>\n",
       "    <tr>\n",
       "      <th>134</th>\n",
       "      <td>10000135</td>\n",
       "      <td>Bushwick Middle School</td>\n",
       "      <td>6</td>\n",
       "      <td>17.0</td>\n",
       "      <td>Advanced</td>\n",
       "      <td>20.0</td>\n",
       "      <td>Advanced</td>\n",
       "    </tr>\n",
       "    <tr>\n",
       "      <th>135</th>\n",
       "      <td>10000136</td>\n",
       "      <td>Bushwick Middle School</td>\n",
       "      <td>6</td>\n",
       "      <td>12.0</td>\n",
       "      <td>Below Proficient</td>\n",
       "      <td>21.0</td>\n",
       "      <td>Advanced</td>\n",
       "    </tr>\n",
       "    <tr>\n",
       "      <th>136</th>\n",
       "      <td>10000137</td>\n",
       "      <td>Bushwick Middle School</td>\n",
       "      <td>6</td>\n",
       "      <td>11.0</td>\n",
       "      <td>Remedial</td>\n",
       "      <td>17.0</td>\n",
       "      <td>Proficient</td>\n",
       "    </tr>\n",
       "  </tbody>\n",
       "</table>\n",
       "</div>"
      ],
      "text/plain": [
       "     Student ID             School_Name  Grade_Level  BOY_FP_Score  \\\n",
       "124    10000125  Bushwick Middle School            6          15.0   \n",
       "132    10000133  Bushwick Middle School            6          12.0   \n",
       "134    10000135  Bushwick Middle School            6          17.0   \n",
       "135    10000136  Bushwick Middle School            6          12.0   \n",
       "136    10000137  Bushwick Middle School            6          11.0   \n",
       "\n",
       "                  BOY  EOY_FP_Score         EOY  \n",
       "124        Proficient          19.0    Advanced  \n",
       "132  Below Proficient          18.0    Advanced  \n",
       "134          Advanced          20.0    Advanced  \n",
       "135  Below Proficient          21.0    Advanced  \n",
       "136          Remedial          17.0  Proficient  "
      ]
     },
     "execution_count": 30,
     "metadata": {},
     "output_type": "execute_result"
    }
   ],
   "source": [
    "bushwick_6 = bushwick[bushwick['Grade_Level'] == 6]\n",
    "bushwick_6.head()"
   ]
  },
  {
   "cell_type": "code",
   "execution_count": 111,
   "metadata": {},
   "outputs": [
    {
     "data": {
      "image/png": "[encoded data removed]",
      "text/plain": [
       "<matplotlib.figure.Figure at 0xdecc978>"
      ]
     },
     "metadata": {},
     "output_type": "display_data"
    }
   ],
   "source": [
    "p1=sns.kdeplot(crown_heights_5['BOY_FP_Score'], shade=True, color=\"skyblue\", label='Crown Heights')\n",
    "p1=sns.kdeplot(bushwick_5['BOY_FP_Score'], shade=True, color=\"gold\",label='Bushwick')\n",
    "plt.title('5th Grade Beginning of Year FP Score');"
   ]
  },
  {
   "cell_type": "code",
   "execution_count": 112,
   "metadata": {},
   "outputs": [
    {
     "data": {
      "image/png": "[encoded data removed]",
      "text/plain": [
       "<matplotlib.figure.Figure at 0xca7a860>"
      ]
     },
     "metadata": {},
     "output_type": "display_data"
    }
   ],
   "source": [
    "p1=sns.kdeplot(crown_heights_5['EOY_FP_Score'], shade=True, color=\"skyblue\", label='Crown Heights')\n",
    "p1=sns.kdeplot(bushwick_5['EOY_FP_Score'], shade=True, color=\"gold\",label='Bushwick')\n",
    "plt.title('5th Grade End of Year FP Score');"
   ]
  },
  {
   "cell_type": "code",
   "execution_count": 110,
   "metadata": {},
   "outputs": [
    {
     "data": {
      "image/png": "[encoded data removed]",
      "text/plain": [
       "<matplotlib.figure.Figure at 0xca39c18>"
      ]
     },
     "metadata": {},
     "output_type": "display_data"
    }
   ],
   "source": [
    "p1=sns.kdeplot(crown_heights_6['BOY_FP_Score'], shade=True, color=\"skyblue\", label='Crown Heights')\n",
    "p1=sns.kdeplot(bushwick_6['BOY_FP_Score'], shade=True, color=\"gold\",label='Bushwick')\n",
    "plt.title('6th Grade Beginning of Year FP Score');\n"
   ]
  },
  {
   "cell_type": "code",
   "execution_count": 109,
   "metadata": {},
   "outputs": [
    {
     "data": {
      "image/png": "[encoded data removed]",
      "text/plain": [
       "<matplotlib.figure.Figure at 0xf062e10>"
      ]
     },
     "metadata": {},
     "output_type": "display_data"
    }
   ],
   "source": [
    "p1=sns.kdeplot(crown_heights_6['EOY_FP_Score'], shade=True, color=\"skyblue\", label='Crown Heights')\n",
    "p1=sns.kdeplot(bushwick_6['EOY_FP_Score'], shade=True, color=\"gold\",label='Bushwick')\n",
    "plt.title('6th Grade End of Year FP Score');\n"
   ]
  },
  {
   "cell_type": "code",
   "execution_count": null,
   "metadata": {
    "collapsed": true
   },
   "outputs": [],
   "source": [
    "crown_heights_5 = crown_heights[crown_heights['Grade_Level']== 5]\n",
    "crown_heights_5.head()"
   ]
  },
  {
   "cell_type": "code",
   "execution_count": null,
   "metadata": {
    "collapsed": true
   },
   "outputs": [],
   "source": [
    "dfwomen_1824 = dfwomen_users[(dfwomen_users.age==18) & (dfwomen_users.age<=24)]\n",
    "ch_5_BOYadvanced = crown_heights_5[(crown_heights_5>=14)]\n",
    "ch_5_BOYproficient = crown_heights_5[(crown_heights_5>=12) & (crown_heights_5<=14)]"
   ]
  },
  {
   "cell_type": "code",
   "execution_count": 185,
   "metadata": {
    "collapsed": true
   },
   "outputs": [],
   "source": [
    "ch_5_BOYadvanced = crown_heights_5[(crown_heights_5.BOY_FP_Score>=14)]\n",
    "ch_5_BOYproficient = crown_heights_5[(crown_heights_5.BOY_FP_Score>=12) & (crown_heights_5.BOY_FP_Score<=13)]\n",
    "ch_5_BOYbelow_proficient = crown_heights_5[(crown_heights_5.BOY_FP_Score>=10) & (crown_heights_5.BOY_FP_Score<=11)]\n",
    "ch_5_BOYremedial = crown_heights_5[(crown_heights_5.BOY_FP_Score<=9)]\n"
   ]
  },
  {
   "cell_type": "code",
   "execution_count": 186,
   "metadata": {
    "collapsed": true
   },
   "outputs": [],
   "source": [
    "bw_5_BOYadvanced = bushwick_5[(bushwick_5.BOY_FP_Score>=14)]\n",
    "bw_5_BOYproficient = bushwick_5[(bushwick_5.BOY_FP_Score>=12) & (bushwick_5.BOY_FP_Score<=13)]\n",
    "bw_5_BOYbelow_proficient = bushwick_5[(bushwick_5.BOY_FP_Score>=10) & (bushwick_5.BOY_FP_Score<=11)]\n",
    "bw_5_BOYremedial = bushwick_5[(bushwick_5.BOY_FP_Score<=9)]"
   ]
  },
  {
   "cell_type": "code",
   "execution_count": 187,
   "metadata": {
    "collapsed": true
   },
   "outputs": [],
   "source": [
    "ch_6_BOYadvanced = crown_heights_6[(crown_heights_6.BOY_FP_Score>=16)]\n",
    "ch_6_BOYproficient = crown_heights_6[(crown_heights_6.BOY_FP_Score>=14) & (crown_heights_6.BOY_FP_Score<=15)]\n",
    "ch_6_BOYbelow_proficient = crown_heights_6[(crown_heights_6.BOY_FP_Score>=12) & (crown_heights_6.BOY_FP_Score<=13)]\n",
    "ch_6_BOYremedial = crown_heights_6[(crown_heights_6.BOY_FP_Score<=11)]"
   ]
  },
  {
   "cell_type": "code",
   "execution_count": 188,
   "metadata": {
    "collapsed": true
   },
   "outputs": [],
   "source": [
    "bw_6_BOYadvanced = bushwick_6[(bushwick_6.BOY_FP_Score>=16)]\n",
    "bw_6_BOYproficient = bushwick_6[(bushwick_6.BOY_FP_Score>=14) & (bushwick_6.BOY_FP_Score<=15)]\n",
    "bw_6_BOYbelow_proficient = bushwick_6[(bushwick_6.BOY_FP_Score>=12) & (bushwick_6.BOY_FP_Score<=13)]\n",
    "bw_6_BOYremedial = bushwick_6[(bushwick_6.BOY_FP_Score<=11)]"
   ]
  },
  {
   "cell_type": "code",
   "execution_count": 189,
   "metadata": {
    "collapsed": true
   },
   "outputs": [],
   "source": [
    "ch_5_EOYadvanced = crown_heights_5[(crown_heights_5.EOY_FP_Score>=16)]\n",
    "ch_5_EOYproficient = crown_heights_5[(crown_heights_5.EOY_FP_Score>=14) & (crown_heights_5.EOY_FP_Score<=15)]\n",
    "ch_5_EOYbelow_proficient = crown_heights_5[(crown_heights_5.EOY_FP_Score>=12) & (crown_heights_5.EOY_FP_Score<=13)]\n",
    "ch_5_EOYremedial = crown_heights_5[(crown_heights_5.EOY_FP_Score<=11)]\n"
   ]
  },
  {
   "cell_type": "code",
   "execution_count": 190,
   "metadata": {
    "collapsed": true
   },
   "outputs": [],
   "source": [
    "bw_5_EOYadvanced = bushwick_5[(bushwick_5.EOY_FP_Score>=16)]\n",
    "bw_5_EOYproficient = bushwick_5[(bushwick_5.EOY_FP_Score>=14) & (bushwick_5.EOY_FP_Score<=15)]\n",
    "bw_5_EOYbelow_proficient = bushwick_5[(bushwick_5.EOY_FP_Score>=12) & (bushwick_5.EOY_FP_Score<=13)]\n",
    "bw_5_EOYremedial = bushwick_5[(bushwick_5.EOY_FP_Score<=11)]"
   ]
  },
  {
   "cell_type": "code",
   "execution_count": 191,
   "metadata": {
    "collapsed": true
   },
   "outputs": [],
   "source": [
    "ch_6_EOYadvanced = crown_heights_6[(crown_heights_6.EOY_FP_Score>=18)]\n",
    "ch_6_EOYproficient = crown_heights_6[(crown_heights_6.EOY_FP_Score>=16) & (crown_heights_6.EOY_FP_Score<=17)]\n",
    "ch_6_EOYbelow_proficient = crown_heights_6[(crown_heights_6.EOY_FP_Score>=14) & (crown_heights_6.EOY_FP_Score<=15)]\n",
    "ch_6_EOYremedial = crown_heights_6[(crown_heights_6.EOY_FP_Score<=13)]"
   ]
  },
  {
   "cell_type": "code",
   "execution_count": 192,
   "metadata": {
    "collapsed": true
   },
   "outputs": [],
   "source": [
    "bw_6_EOYadvanced = bushwick_6[(bushwick_6.EOY_FP_Score>=18)]\n",
    "bw_6_EOYproficient = bushwick_6[(bushwick_6.EOY_FP_Score>=16) & (bushwick_6.EOY_FP_Score<=17)]\n",
    "bw_6_EOYbelow_proficient = bushwick_6[(bushwick_6.EOY_FP_Score>=14) & (bushwick_6.EOY_FP_Score<=15)]\n",
    "bw_6_EOYremedial = bushwick_6[(bushwick_6.EOY_FP_Score<=13)]"
   ]
  },
  {
   "cell_type": "code",
   "execution_count": 201,
   "metadata": {},
   "outputs": [
    {
     "data": {
      "text/html": [
       "<div>\n",
       "<style>\n",
       "    .dataframe thead tr:only-child th {\n",
       "        text-align: right;\n",
       "    }\n",
       "\n",
       "    .dataframe thead th {\n",
       "        text-align: left;\n",
       "    }\n",
       "\n",
       "    .dataframe tbody tr th {\n",
       "        vertical-align: top;\n",
       "    }\n",
       "</style>\n",
       "<table border=\"1\" class=\"dataframe\">\n",
       "  <thead>\n",
       "    <tr style=\"text-align: right;\">\n",
       "      <th></th>\n",
       "      <th>Student ID</th>\n",
       "      <th>School_Name</th>\n",
       "      <th>Grade_Level</th>\n",
       "      <th>BOY_FP_Score</th>\n",
       "      <th>BOY</th>\n",
       "      <th>EOY_FP_Score</th>\n",
       "      <th>EOY</th>\n",
       "    </tr>\n",
       "  </thead>\n",
       "  <tbody>\n",
       "    <tr>\n",
       "      <th>0</th>\n",
       "      <td>10000001</td>\n",
       "      <td>Bushwick Middle School</td>\n",
       "      <td>5</td>\n",
       "      <td>11.0</td>\n",
       "      <td>Below Proficient</td>\n",
       "      <td>16.0</td>\n",
       "      <td>Advanced</td>\n",
       "    </tr>\n",
       "    <tr>\n",
       "      <th>1</th>\n",
       "      <td>10000002</td>\n",
       "      <td>Bushwick Middle School</td>\n",
       "      <td>5</td>\n",
       "      <td>11.0</td>\n",
       "      <td>Below Proficient</td>\n",
       "      <td>16.0</td>\n",
       "      <td>Advanced</td>\n",
       "    </tr>\n",
       "    <tr>\n",
       "      <th>3</th>\n",
       "      <td>10000004</td>\n",
       "      <td>Bushwick Middle School</td>\n",
       "      <td>5</td>\n",
       "      <td>11.0</td>\n",
       "      <td>Below Proficient</td>\n",
       "      <td>16.0</td>\n",
       "      <td>Advanced</td>\n",
       "    </tr>\n",
       "    <tr>\n",
       "      <th>4</th>\n",
       "      <td>10000005</td>\n",
       "      <td>Bushwick Middle School</td>\n",
       "      <td>5</td>\n",
       "      <td>11.0</td>\n",
       "      <td>Below Proficient</td>\n",
       "      <td>14.0</td>\n",
       "      <td>Proficient</td>\n",
       "    </tr>\n",
       "    <tr>\n",
       "      <th>5</th>\n",
       "      <td>10000006</td>\n",
       "      <td>Bushwick Middle School</td>\n",
       "      <td>5</td>\n",
       "      <td>11.0</td>\n",
       "      <td>Below Proficient</td>\n",
       "      <td>10.0</td>\n",
       "      <td>Remedial</td>\n",
       "    </tr>\n",
       "  </tbody>\n",
       "</table>\n",
       "</div>"
      ],
      "text/plain": [
       "   Student ID             School_Name  Grade_Level  BOY_FP_Score  \\\n",
       "0    10000001  Bushwick Middle School            5          11.0   \n",
       "1    10000002  Bushwick Middle School            5          11.0   \n",
       "3    10000004  Bushwick Middle School            5          11.0   \n",
       "4    10000005  Bushwick Middle School            5          11.0   \n",
       "5    10000006  Bushwick Middle School            5          11.0   \n",
       "\n",
       "                BOY  EOY_FP_Score         EOY  \n",
       "0  Below Proficient          16.0    Advanced  \n",
       "1  Below Proficient          16.0    Advanced  \n",
       "3  Below Proficient          16.0    Advanced  \n",
       "4  Below Proficient          14.0  Proficient  \n",
       "5  Below Proficient          10.0    Remedial  "
      ]
     },
     "execution_count": 201,
     "metadata": {},
     "output_type": "execute_result"
    }
   ],
   "source": [
    "bw_5_BOYbelow_proficient.head()"
   ]
  },
  {
   "cell_type": "markdown",
   "metadata": {},
   "source": [
    "# DATA FRAME 3 (WITH IMPUTATION)"
   ]
  },
  {
   "cell_type": "code",
   "execution_count": 142,
   "metadata": {
    "collapsed": true
   },
   "outputs": [],
   "source": [
    "df3 = pd.read_csv(\"https://docs.google.com/spreadsheets/d/e/2PACX-1vT4MV-jCI7JZ5glq5YmcLCNs0lrQKb-Nyr63LPmXV9BFpXKsx3JJTx4oa5unSB4tZMwO-UCaG65x96Z/pub?output=csv\")"
   ]
  },
  {
   "cell_type": "code",
   "execution_count": 139,
   "metadata": {
    "collapsed": true
   },
   "outputs": [],
   "source": [
    "df3 = df3.rename(columns={'BOY F&P Score':'BOY_FP_Score', 'EOY F&P Score':'EOY_FP_Score', 'Grade Level':'Grade_Level', 'School Name':'School_Name'})"
   ]
  },
  {
   "cell_type": "code",
   "execution_count": 126,
   "metadata": {},
   "outputs": [
    {
     "data": {
      "text/html": [
       "<div>\n",
       "<style>\n",
       "    .dataframe thead tr:only-child th {\n",
       "        text-align: right;\n",
       "    }\n",
       "\n",
       "    .dataframe thead th {\n",
       "        text-align: left;\n",
       "    }\n",
       "\n",
       "    .dataframe tbody tr th {\n",
       "        vertical-align: top;\n",
       "    }\n",
       "</style>\n",
       "<table border=\"1\" class=\"dataframe\">\n",
       "  <thead>\n",
       "    <tr style=\"text-align: right;\">\n",
       "      <th></th>\n",
       "      <th>Student ID</th>\n",
       "      <th>School_Name</th>\n",
       "      <th>Grade_Level</th>\n",
       "      <th>BOY_FP_Score</th>\n",
       "      <th>BOY</th>\n",
       "      <th>EOY_FP_Score</th>\n",
       "      <th>EOY</th>\n",
       "    </tr>\n",
       "  </thead>\n",
       "  <tbody>\n",
       "    <tr>\n",
       "      <th>count</th>\n",
       "      <td>3.760000e+02</td>\n",
       "      <td>376</td>\n",
       "      <td>376.000000</td>\n",
       "      <td>279.000000</td>\n",
       "      <td>278</td>\n",
       "      <td>366.000000</td>\n",
       "      <td>366</td>\n",
       "    </tr>\n",
       "    <tr>\n",
       "      <th>unique</th>\n",
       "      <td>NaN</td>\n",
       "      <td>2</td>\n",
       "      <td>NaN</td>\n",
       "      <td>NaN</td>\n",
       "      <td>4</td>\n",
       "      <td>NaN</td>\n",
       "      <td>4</td>\n",
       "    </tr>\n",
       "    <tr>\n",
       "      <th>top</th>\n",
       "      <td>NaN</td>\n",
       "      <td>Bushwick Middle School</td>\n",
       "      <td>NaN</td>\n",
       "      <td>NaN</td>\n",
       "      <td>Proficient</td>\n",
       "      <td>NaN</td>\n",
       "      <td>Advanced</td>\n",
       "    </tr>\n",
       "    <tr>\n",
       "      <th>freq</th>\n",
       "      <td>NaN</td>\n",
       "      <td>202</td>\n",
       "      <td>NaN</td>\n",
       "      <td>NaN</td>\n",
       "      <td>96</td>\n",
       "      <td>NaN</td>\n",
       "      <td>177</td>\n",
       "    </tr>\n",
       "    <tr>\n",
       "      <th>mean</th>\n",
       "      <td>1.000019e+07</td>\n",
       "      <td>NaN</td>\n",
       "      <td>5.529255</td>\n",
       "      <td>12.867384</td>\n",
       "      <td>NaN</td>\n",
       "      <td>16.390710</td>\n",
       "      <td>NaN</td>\n",
       "    </tr>\n",
       "    <tr>\n",
       "      <th>std</th>\n",
       "      <td>1.083334e+02</td>\n",
       "      <td>NaN</td>\n",
       "      <td>0.499808</td>\n",
       "      <td>2.572750</td>\n",
       "      <td>NaN</td>\n",
       "      <td>3.057946</td>\n",
       "      <td>NaN</td>\n",
       "    </tr>\n",
       "    <tr>\n",
       "      <th>min</th>\n",
       "      <td>1.000000e+07</td>\n",
       "      <td>NaN</td>\n",
       "      <td>5.000000</td>\n",
       "      <td>0.000000</td>\n",
       "      <td>NaN</td>\n",
       "      <td>9.000000</td>\n",
       "      <td>NaN</td>\n",
       "    </tr>\n",
       "    <tr>\n",
       "      <th>25%</th>\n",
       "      <td>1.000009e+07</td>\n",
       "      <td>NaN</td>\n",
       "      <td>5.000000</td>\n",
       "      <td>11.000000</td>\n",
       "      <td>NaN</td>\n",
       "      <td>14.000000</td>\n",
       "      <td>NaN</td>\n",
       "    </tr>\n",
       "    <tr>\n",
       "      <th>50%</th>\n",
       "      <td>1.000019e+07</td>\n",
       "      <td>NaN</td>\n",
       "      <td>6.000000</td>\n",
       "      <td>13.000000</td>\n",
       "      <td>NaN</td>\n",
       "      <td>16.000000</td>\n",
       "      <td>NaN</td>\n",
       "    </tr>\n",
       "    <tr>\n",
       "      <th>75%</th>\n",
       "      <td>1.000028e+07</td>\n",
       "      <td>NaN</td>\n",
       "      <td>6.000000</td>\n",
       "      <td>14.000000</td>\n",
       "      <td>NaN</td>\n",
       "      <td>19.000000</td>\n",
       "      <td>NaN</td>\n",
       "    </tr>\n",
       "    <tr>\n",
       "      <th>max</th>\n",
       "      <td>1.000038e+07</td>\n",
       "      <td>NaN</td>\n",
       "      <td>6.000000</td>\n",
       "      <td>21.000000</td>\n",
       "      <td>NaN</td>\n",
       "      <td>33.000000</td>\n",
       "      <td>NaN</td>\n",
       "    </tr>\n",
       "  </tbody>\n",
       "</table>\n",
       "</div>"
      ],
      "text/plain": [
       "          Student ID             School_Name  Grade_Level  BOY_FP_Score  \\\n",
       "count   3.760000e+02                     376   376.000000    279.000000   \n",
       "unique           NaN                       2          NaN           NaN   \n",
       "top              NaN  Bushwick Middle School          NaN           NaN   \n",
       "freq             NaN                     202          NaN           NaN   \n",
       "mean    1.000019e+07                     NaN     5.529255     12.867384   \n",
       "std     1.083334e+02                     NaN     0.499808      2.572750   \n",
       "min     1.000000e+07                     NaN     5.000000      0.000000   \n",
       "25%     1.000009e+07                     NaN     5.000000     11.000000   \n",
       "50%     1.000019e+07                     NaN     6.000000     13.000000   \n",
       "75%     1.000028e+07                     NaN     6.000000     14.000000   \n",
       "max     1.000038e+07                     NaN     6.000000     21.000000   \n",
       "\n",
       "               BOY  EOY_FP_Score       EOY  \n",
       "count          278    366.000000       366  \n",
       "unique           4           NaN         4  \n",
       "top     Proficient           NaN  Advanced  \n",
       "freq            96           NaN       177  \n",
       "mean           NaN     16.390710       NaN  \n",
       "std            NaN      3.057946       NaN  \n",
       "min            NaN      9.000000       NaN  \n",
       "25%            NaN     14.000000       NaN  \n",
       "50%            NaN     16.000000       NaN  \n",
       "75%            NaN     19.000000       NaN  \n",
       "max            NaN     33.000000       NaN  "
      ]
     },
     "execution_count": 126,
     "metadata": {},
     "output_type": "execute_result"
    }
   ],
   "source": [
    "df3.describe(include='all')"
   ]
  },
  {
   "cell_type": "code",
   "execution_count": 127,
   "metadata": {},
   "outputs": [
    {
     "data": {
      "text/plain": [
       "Student ID       0\n",
       "School_Name      0\n",
       "Grade_Level      0\n",
       "BOY_FP_Score    97\n",
       "BOY             98\n",
       "EOY_FP_Score    10\n",
       "EOY             10\n",
       "dtype: int64"
      ]
     },
     "execution_count": 127,
     "metadata": {},
     "output_type": "execute_result"
    }
   ],
   "source": [
    "df3.isnull().sum()"
   ]
  },
  {
   "cell_type": "markdown",
   "metadata": {
    "collapsed": true
   },
   "source": [
    "## Mean imputatation is used to fill in the missing values."
   ]
  },
  {
   "cell_type": "code",
   "execution_count": 55,
   "metadata": {},
   "outputs": [
    {
     "data": {
      "text/html": [
       "<div>\n",
       "<style>\n",
       "    .dataframe thead tr:only-child th {\n",
       "        text-align: right;\n",
       "    }\n",
       "\n",
       "    .dataframe thead th {\n",
       "        text-align: left;\n",
       "    }\n",
       "\n",
       "    .dataframe tbody tr th {\n",
       "        vertical-align: top;\n",
       "    }\n",
       "</style>\n",
       "<table border=\"1\" class=\"dataframe\">\n",
       "  <thead>\n",
       "    <tr style=\"text-align: right;\">\n",
       "      <th></th>\n",
       "      <th>Student ID</th>\n",
       "      <th>School_Name</th>\n",
       "      <th>Grade_Level</th>\n",
       "      <th>BOY_FP_Score</th>\n",
       "      <th>BOY</th>\n",
       "      <th>EOY_FP_Score</th>\n",
       "      <th>EOY</th>\n",
       "    </tr>\n",
       "  </thead>\n",
       "  <tbody>\n",
       "    <tr>\n",
       "      <th>count</th>\n",
       "      <td>3.760000e+02</td>\n",
       "      <td>376</td>\n",
       "      <td>376.000000</td>\n",
       "      <td>376.000000</td>\n",
       "      <td>278</td>\n",
       "      <td>376.000000</td>\n",
       "      <td>366</td>\n",
       "    </tr>\n",
       "    <tr>\n",
       "      <th>unique</th>\n",
       "      <td>NaN</td>\n",
       "      <td>2</td>\n",
       "      <td>NaN</td>\n",
       "      <td>NaN</td>\n",
       "      <td>4</td>\n",
       "      <td>NaN</td>\n",
       "      <td>4</td>\n",
       "    </tr>\n",
       "    <tr>\n",
       "      <th>top</th>\n",
       "      <td>NaN</td>\n",
       "      <td>Bushwick Middle School</td>\n",
       "      <td>NaN</td>\n",
       "      <td>NaN</td>\n",
       "      <td>Proficient</td>\n",
       "      <td>NaN</td>\n",
       "      <td>Advanced</td>\n",
       "    </tr>\n",
       "    <tr>\n",
       "      <th>freq</th>\n",
       "      <td>NaN</td>\n",
       "      <td>202</td>\n",
       "      <td>NaN</td>\n",
       "      <td>NaN</td>\n",
       "      <td>96</td>\n",
       "      <td>NaN</td>\n",
       "      <td>177</td>\n",
       "    </tr>\n",
       "    <tr>\n",
       "      <th>mean</th>\n",
       "      <td>1.000019e+07</td>\n",
       "      <td>NaN</td>\n",
       "      <td>5.529255</td>\n",
       "      <td>12.867384</td>\n",
       "      <td>NaN</td>\n",
       "      <td>16.390710</td>\n",
       "      <td>NaN</td>\n",
       "    </tr>\n",
       "    <tr>\n",
       "      <th>std</th>\n",
       "      <td>1.083334e+02</td>\n",
       "      <td>NaN</td>\n",
       "      <td>0.499808</td>\n",
       "      <td>2.215156</td>\n",
       "      <td>NaN</td>\n",
       "      <td>3.016898</td>\n",
       "      <td>NaN</td>\n",
       "    </tr>\n",
       "    <tr>\n",
       "      <th>min</th>\n",
       "      <td>1.000000e+07</td>\n",
       "      <td>NaN</td>\n",
       "      <td>5.000000</td>\n",
       "      <td>0.000000</td>\n",
       "      <td>NaN</td>\n",
       "      <td>9.000000</td>\n",
       "      <td>NaN</td>\n",
       "    </tr>\n",
       "    <tr>\n",
       "      <th>25%</th>\n",
       "      <td>1.000009e+07</td>\n",
       "      <td>NaN</td>\n",
       "      <td>5.000000</td>\n",
       "      <td>12.000000</td>\n",
       "      <td>NaN</td>\n",
       "      <td>14.000000</td>\n",
       "      <td>NaN</td>\n",
       "    </tr>\n",
       "    <tr>\n",
       "      <th>50%</th>\n",
       "      <td>1.000019e+07</td>\n",
       "      <td>NaN</td>\n",
       "      <td>6.000000</td>\n",
       "      <td>12.867384</td>\n",
       "      <td>NaN</td>\n",
       "      <td>16.390710</td>\n",
       "      <td>NaN</td>\n",
       "    </tr>\n",
       "    <tr>\n",
       "      <th>75%</th>\n",
       "      <td>1.000028e+07</td>\n",
       "      <td>NaN</td>\n",
       "      <td>6.000000</td>\n",
       "      <td>14.000000</td>\n",
       "      <td>NaN</td>\n",
       "      <td>19.000000</td>\n",
       "      <td>NaN</td>\n",
       "    </tr>\n",
       "    <tr>\n",
       "      <th>max</th>\n",
       "      <td>1.000038e+07</td>\n",
       "      <td>NaN</td>\n",
       "      <td>6.000000</td>\n",
       "      <td>21.000000</td>\n",
       "      <td>NaN</td>\n",
       "      <td>33.000000</td>\n",
       "      <td>NaN</td>\n",
       "    </tr>\n",
       "  </tbody>\n",
       "</table>\n",
       "</div>"
      ],
      "text/plain": [
       "          Student ID             School_Name  Grade_Level  BOY_FP_Score  \\\n",
       "count   3.760000e+02                     376   376.000000    376.000000   \n",
       "unique           NaN                       2          NaN           NaN   \n",
       "top              NaN  Bushwick Middle School          NaN           NaN   \n",
       "freq             NaN                     202          NaN           NaN   \n",
       "mean    1.000019e+07                     NaN     5.529255     12.867384   \n",
       "std     1.083334e+02                     NaN     0.499808      2.215156   \n",
       "min     1.000000e+07                     NaN     5.000000      0.000000   \n",
       "25%     1.000009e+07                     NaN     5.000000     12.000000   \n",
       "50%     1.000019e+07                     NaN     6.000000     12.867384   \n",
       "75%     1.000028e+07                     NaN     6.000000     14.000000   \n",
       "max     1.000038e+07                     NaN     6.000000     21.000000   \n",
       "\n",
       "               BOY  EOY_FP_Score       EOY  \n",
       "count          278    376.000000       366  \n",
       "unique           4           NaN         4  \n",
       "top     Proficient           NaN  Advanced  \n",
       "freq            96           NaN       177  \n",
       "mean           NaN     16.390710       NaN  \n",
       "std            NaN      3.016898       NaN  \n",
       "min            NaN      9.000000       NaN  \n",
       "25%            NaN     14.000000       NaN  \n",
       "50%            NaN     16.390710       NaN  \n",
       "75%            NaN     19.000000       NaN  \n",
       "max            NaN     33.000000       NaN  "
      ]
     },
     "execution_count": 55,
     "metadata": {},
     "output_type": "execute_result"
    }
   ],
   "source": [
    "df3 = df3.fillna(df3.mean(),inplace=True)\n",
    "df3.describe(include=\"all\")"
   ]
  },
  {
   "cell_type": "code",
   "execution_count": 140,
   "metadata": {},
   "outputs": [
    {
     "ename": "AttributeError",
     "evalue": "'NoneType' object has no attribute 'describe'",
     "output_type": "error",
     "traceback": [
      "\u001b[1;31m---------------------------------------------------------------------------\u001b[0m",
      "\u001b[1;31mAttributeError\u001b[0m                            Traceback (most recent call last)",
      "\u001b[1;32m<ipython-input-140-d5b4b3cd1e85>\u001b[0m in \u001b[0;36m<module>\u001b[1;34m()\u001b[0m\n\u001b[0;32m      1\u001b[0m \u001b[0mdf3\u001b[0m \u001b[1;33m=\u001b[0m \u001b[0mdf3\u001b[0m\u001b[1;33m.\u001b[0m\u001b[0mfillna\u001b[0m\u001b[1;33m(\u001b[0m\u001b[0mdf3\u001b[0m\u001b[1;33m.\u001b[0m\u001b[0mgroupby\u001b[0m\u001b[1;33m(\u001b[0m\u001b[1;34m'Grade_Level'\u001b[0m\u001b[1;33m)\u001b[0m\u001b[1;33m[\u001b[0m\u001b[1;34m'BOY_FP_Score'\u001b[0m\u001b[1;33m]\u001b[0m\u001b[1;33m.\u001b[0m\u001b[0mmean\u001b[0m\u001b[1;33m(\u001b[0m\u001b[1;33m)\u001b[0m\u001b[1;33m.\u001b[0m\u001b[0mreset_index\u001b[0m\u001b[1;33m(\u001b[0m\u001b[1;33m)\u001b[0m\u001b[1;33m,\u001b[0m\u001b[0minplace\u001b[0m\u001b[1;33m=\u001b[0m\u001b[0mTrue\u001b[0m\u001b[1;33m)\u001b[0m\u001b[1;33m\u001b[0m\u001b[0m\n\u001b[1;32m----> 2\u001b[1;33m \u001b[0mdf3\u001b[0m\u001b[1;33m.\u001b[0m\u001b[0mdescribe\u001b[0m\u001b[1;33m(\u001b[0m\u001b[0minclude\u001b[0m\u001b[1;33m=\u001b[0m\u001b[1;34m\"all\"\u001b[0m\u001b[1;33m)\u001b[0m\u001b[1;33m\u001b[0m\u001b[0m\n\u001b[0m",
      "\u001b[1;31mAttributeError\u001b[0m: 'NoneType' object has no attribute 'describe'"
     ]
    }
   ],
   "source": [
    "df3 = df3.fillna(df3.groupby('Grade_Level')['BOY_FP_Score'].mean().reset_index(),inplace=True)\n",
    "df3.describe(include=\"all\")"
   ]
  },
  {
   "cell_type": "code",
   "execution_count": 143,
   "metadata": {},
   "outputs": [
    {
     "data": {
      "text/plain": [
       "Student ID        0\n",
       "School Name       0\n",
       "Grade Level       0\n",
       "BOY F&P Score    97\n",
       "BOY              98\n",
       "EOY F&P Score    10\n",
       "EOY              10\n",
       "dtype: int64"
      ]
     },
     "execution_count": 143,
     "metadata": {},
     "output_type": "execute_result"
    }
   ],
   "source": [
    "df3.isnull().sum()"
   ]
  },
  {
   "cell_type": "code",
   "execution_count": 135,
   "metadata": {},
   "outputs": [
    {
     "ename": "AttributeError",
     "evalue": "'NoneType' object has no attribute 'groupby'",
     "output_type": "error",
     "traceback": [
      "\u001b[1;31m---------------------------------------------------------------------------\u001b[0m",
      "\u001b[1;31mAttributeError\u001b[0m                            Traceback (most recent call last)",
      "\u001b[1;32m<ipython-input-135-a144472008e0>\u001b[0m in \u001b[0;36m<module>\u001b[1;34m()\u001b[0m\n\u001b[1;32m----> 1\u001b[1;33m \u001b[0mdf3\u001b[0m\u001b[1;33m.\u001b[0m\u001b[0mgroupby\u001b[0m\u001b[1;33m(\u001b[0m\u001b[1;34m'Grade_Level'\u001b[0m\u001b[1;33m)\u001b[0m\u001b[1;33m[\u001b[0m\u001b[1;34m'BOY_FP_Score'\u001b[0m\u001b[1;33m]\u001b[0m\u001b[1;33m.\u001b[0m\u001b[0mmean\u001b[0m\u001b[1;33m(\u001b[0m\u001b[1;33m)\u001b[0m\u001b[1;33m\u001b[0m\u001b[0m\n\u001b[0m",
      "\u001b[1;31mAttributeError\u001b[0m: 'NoneType' object has no attribute 'groupby'"
     ]
    }
   ],
   "source": [
    "df3.groupby('Grade_Level')['BOY_FP_Score'].mean()"
   ]
  },
  {
   "cell_type": "code",
   "execution_count": 56,
   "metadata": {},
   "outputs": [
    {
     "data": {
      "text/plain": [
       "(376, 7)"
      ]
     },
     "execution_count": 56,
     "metadata": {},
     "output_type": "execute_result"
    }
   ],
   "source": [
    "df3.shape"
   ]
  },
  {
   "cell_type": "markdown",
   "metadata": {},
   "source": [
    "# The data set is exported to Excel to index match proficiecy levels. "
   ]
  },
  {
   "cell_type": "code",
   "execution_count": 49,
   "metadata": {
    "collapsed": true
   },
   "outputs": [],
   "source": [
    "df3.to_csv('out.csv')"
   ]
  },
  {
   "cell_type": "code",
   "execution_count": 58,
   "metadata": {
    "collapsed": true
   },
   "outputs": [],
   "source": [
    "df3 = pd.read_csv(\"https://docs.google.com/spreadsheets/d/e/2PACX-1vSCur0dahlDU__uPWFnN5xw2JErlJzRcr_jiGX-8o9MDnNS76bvgcKiHQQQD42E3pasXxbbFwd-_UaI/pub?output=csv\")"
   ]
  },
  {
   "cell_type": "code",
   "execution_count": 63,
   "metadata": {
    "collapsed": true
   },
   "outputs": [],
   "source": [
    "df3 = df3.rename(columns={'BOY F&P Score':'BOY_FP_Score', 'EOY F&P Score':'EOY_FP_Score', 'Grade Level':'Grade_Level', 'School Name':'School_Name'})"
   ]
  },
  {
   "cell_type": "code",
   "execution_count": 64,
   "metadata": {},
   "outputs": [
    {
     "data": {
      "text/html": [
       "<div>\n",
       "<style>\n",
       "    .dataframe thead tr:only-child th {\n",
       "        text-align: right;\n",
       "    }\n",
       "\n",
       "    .dataframe thead th {\n",
       "        text-align: left;\n",
       "    }\n",
       "\n",
       "    .dataframe tbody tr th {\n",
       "        vertical-align: top;\n",
       "    }\n",
       "</style>\n",
       "<table border=\"1\" class=\"dataframe\">\n",
       "  <thead>\n",
       "    <tr style=\"text-align: right;\">\n",
       "      <th></th>\n",
       "      <th>Student ID</th>\n",
       "      <th>School_Name</th>\n",
       "      <th>Grade_Level</th>\n",
       "      <th>BOY_FP_Score</th>\n",
       "      <th>BOY</th>\n",
       "      <th>EOY_FP_Score</th>\n",
       "      <th>EOY</th>\n",
       "    </tr>\n",
       "  </thead>\n",
       "  <tbody>\n",
       "    <tr>\n",
       "      <th>0</th>\n",
       "      <td>10000001</td>\n",
       "      <td>Bushwick Middle School</td>\n",
       "      <td>5</td>\n",
       "      <td>11</td>\n",
       "      <td>Below Proficient</td>\n",
       "      <td>16</td>\n",
       "      <td>Advanced</td>\n",
       "    </tr>\n",
       "    <tr>\n",
       "      <th>1</th>\n",
       "      <td>10000002</td>\n",
       "      <td>Bushwick Middle School</td>\n",
       "      <td>5</td>\n",
       "      <td>11</td>\n",
       "      <td>Below Proficient</td>\n",
       "      <td>16</td>\n",
       "      <td>Advanced</td>\n",
       "    </tr>\n",
       "    <tr>\n",
       "      <th>2</th>\n",
       "      <td>10000003</td>\n",
       "      <td>Crown Heights Middle School</td>\n",
       "      <td>5</td>\n",
       "      <td>11</td>\n",
       "      <td>Below Proficient</td>\n",
       "      <td>16</td>\n",
       "      <td>Advanced</td>\n",
       "    </tr>\n",
       "    <tr>\n",
       "      <th>3</th>\n",
       "      <td>10000004</td>\n",
       "      <td>Bushwick Middle School</td>\n",
       "      <td>5</td>\n",
       "      <td>11</td>\n",
       "      <td>Below Proficient</td>\n",
       "      <td>16</td>\n",
       "      <td>Advanced</td>\n",
       "    </tr>\n",
       "    <tr>\n",
       "      <th>4</th>\n",
       "      <td>10000005</td>\n",
       "      <td>Bushwick Middle School</td>\n",
       "      <td>5</td>\n",
       "      <td>11</td>\n",
       "      <td>Below Proficient</td>\n",
       "      <td>14</td>\n",
       "      <td>Proficient</td>\n",
       "    </tr>\n",
       "    <tr>\n",
       "      <th>5</th>\n",
       "      <td>10000006</td>\n",
       "      <td>Bushwick Middle School</td>\n",
       "      <td>5</td>\n",
       "      <td>11</td>\n",
       "      <td>Below Proficient</td>\n",
       "      <td>10</td>\n",
       "      <td>Remedial</td>\n",
       "    </tr>\n",
       "    <tr>\n",
       "      <th>6</th>\n",
       "      <td>10000007</td>\n",
       "      <td>Bushwick Middle School</td>\n",
       "      <td>5</td>\n",
       "      <td>8</td>\n",
       "      <td>Remedial</td>\n",
       "      <td>14</td>\n",
       "      <td>Proficient</td>\n",
       "    </tr>\n",
       "    <tr>\n",
       "      <th>7</th>\n",
       "      <td>10000008</td>\n",
       "      <td>Crown Heights Middle School</td>\n",
       "      <td>5</td>\n",
       "      <td>13</td>\n",
       "      <td>Proficient</td>\n",
       "      <td>14</td>\n",
       "      <td>Proficient</td>\n",
       "    </tr>\n",
       "    <tr>\n",
       "      <th>8</th>\n",
       "      <td>10000009</td>\n",
       "      <td>Crown Heights Middle School</td>\n",
       "      <td>5</td>\n",
       "      <td>13</td>\n",
       "      <td>Proficient</td>\n",
       "      <td>11</td>\n",
       "      <td>Remedial</td>\n",
       "    </tr>\n",
       "    <tr>\n",
       "      <th>9</th>\n",
       "      <td>10000010</td>\n",
       "      <td>Crown Heights Middle School</td>\n",
       "      <td>5</td>\n",
       "      <td>14</td>\n",
       "      <td>Advanced</td>\n",
       "      <td>15</td>\n",
       "      <td>Proficient</td>\n",
       "    </tr>\n",
       "    <tr>\n",
       "      <th>10</th>\n",
       "      <td>10000011</td>\n",
       "      <td>Crown Heights Middle School</td>\n",
       "      <td>5</td>\n",
       "      <td>13</td>\n",
       "      <td>Proficient</td>\n",
       "      <td>14</td>\n",
       "      <td>Proficient</td>\n",
       "    </tr>\n",
       "    <tr>\n",
       "      <th>11</th>\n",
       "      <td>10000012</td>\n",
       "      <td>Bushwick Middle School</td>\n",
       "      <td>5</td>\n",
       "      <td>11</td>\n",
       "      <td>Below Proficient</td>\n",
       "      <td>16</td>\n",
       "      <td>Advanced</td>\n",
       "    </tr>\n",
       "    <tr>\n",
       "      <th>12</th>\n",
       "      <td>10000013</td>\n",
       "      <td>Crown Heights Middle School</td>\n",
       "      <td>5</td>\n",
       "      <td>14</td>\n",
       "      <td>Advanced</td>\n",
       "      <td>12</td>\n",
       "      <td>Below Proficient</td>\n",
       "    </tr>\n",
       "    <tr>\n",
       "      <th>13</th>\n",
       "      <td>10000014</td>\n",
       "      <td>Bushwick Middle School</td>\n",
       "      <td>5</td>\n",
       "      <td>14</td>\n",
       "      <td>Advanced</td>\n",
       "      <td>14</td>\n",
       "      <td>Proficient</td>\n",
       "    </tr>\n",
       "    <tr>\n",
       "      <th>14</th>\n",
       "      <td>10000015</td>\n",
       "      <td>Crown Heights Middle School</td>\n",
       "      <td>5</td>\n",
       "      <td>13</td>\n",
       "      <td>Proficient</td>\n",
       "      <td>15</td>\n",
       "      <td>Proficient</td>\n",
       "    </tr>\n",
       "    <tr>\n",
       "      <th>15</th>\n",
       "      <td>10000016</td>\n",
       "      <td>Bushwick Middle School</td>\n",
       "      <td>5</td>\n",
       "      <td>12</td>\n",
       "      <td>Proficient</td>\n",
       "      <td>15</td>\n",
       "      <td>Proficient</td>\n",
       "    </tr>\n",
       "    <tr>\n",
       "      <th>16</th>\n",
       "      <td>10000017</td>\n",
       "      <td>Crown Heights Middle School</td>\n",
       "      <td>5</td>\n",
       "      <td>15</td>\n",
       "      <td>Advanced</td>\n",
       "      <td>11</td>\n",
       "      <td>Remedial</td>\n",
       "    </tr>\n",
       "    <tr>\n",
       "      <th>17</th>\n",
       "      <td>10000018</td>\n",
       "      <td>Bushwick Middle School</td>\n",
       "      <td>5</td>\n",
       "      <td>13</td>\n",
       "      <td>Proficient</td>\n",
       "      <td>15</td>\n",
       "      <td>Proficient</td>\n",
       "    </tr>\n",
       "    <tr>\n",
       "      <th>18</th>\n",
       "      <td>10000019</td>\n",
       "      <td>Bushwick Middle School</td>\n",
       "      <td>5</td>\n",
       "      <td>11</td>\n",
       "      <td>Below Proficient</td>\n",
       "      <td>15</td>\n",
       "      <td>Proficient</td>\n",
       "    </tr>\n",
       "    <tr>\n",
       "      <th>19</th>\n",
       "      <td>10000020</td>\n",
       "      <td>Bushwick Middle School</td>\n",
       "      <td>5</td>\n",
       "      <td>14</td>\n",
       "      <td>Advanced</td>\n",
       "      <td>11</td>\n",
       "      <td>Remedial</td>\n",
       "    </tr>\n",
       "    <tr>\n",
       "      <th>20</th>\n",
       "      <td>10000021</td>\n",
       "      <td>Crown Heights Middle School</td>\n",
       "      <td>5</td>\n",
       "      <td>13</td>\n",
       "      <td>Proficient</td>\n",
       "      <td>16</td>\n",
       "      <td>Advanced</td>\n",
       "    </tr>\n",
       "    <tr>\n",
       "      <th>21</th>\n",
       "      <td>10000022</td>\n",
       "      <td>Bushwick Middle School</td>\n",
       "      <td>5</td>\n",
       "      <td>10</td>\n",
       "      <td>Below Proficient</td>\n",
       "      <td>11</td>\n",
       "      <td>Remedial</td>\n",
       "    </tr>\n",
       "    <tr>\n",
       "      <th>22</th>\n",
       "      <td>10000023</td>\n",
       "      <td>Bushwick Middle School</td>\n",
       "      <td>5</td>\n",
       "      <td>9</td>\n",
       "      <td>Remedial</td>\n",
       "      <td>15</td>\n",
       "      <td>Proficient</td>\n",
       "    </tr>\n",
       "    <tr>\n",
       "      <th>23</th>\n",
       "      <td>10000024</td>\n",
       "      <td>Crown Heights Middle School</td>\n",
       "      <td>5</td>\n",
       "      <td>14</td>\n",
       "      <td>Advanced</td>\n",
       "      <td>12</td>\n",
       "      <td>Below Proficient</td>\n",
       "    </tr>\n",
       "    <tr>\n",
       "      <th>24</th>\n",
       "      <td>10000025</td>\n",
       "      <td>Bushwick Middle School</td>\n",
       "      <td>5</td>\n",
       "      <td>10</td>\n",
       "      <td>Below Proficient</td>\n",
       "      <td>10</td>\n",
       "      <td>Remedial</td>\n",
       "    </tr>\n",
       "    <tr>\n",
       "      <th>25</th>\n",
       "      <td>10000026</td>\n",
       "      <td>Crown Heights Middle School</td>\n",
       "      <td>5</td>\n",
       "      <td>14</td>\n",
       "      <td>Advanced</td>\n",
       "      <td>15</td>\n",
       "      <td>Proficient</td>\n",
       "    </tr>\n",
       "    <tr>\n",
       "      <th>26</th>\n",
       "      <td>10000027</td>\n",
       "      <td>Bushwick Middle School</td>\n",
       "      <td>5</td>\n",
       "      <td>10</td>\n",
       "      <td>Below Proficient</td>\n",
       "      <td>14</td>\n",
       "      <td>Proficient</td>\n",
       "    </tr>\n",
       "    <tr>\n",
       "      <th>27</th>\n",
       "      <td>10000028</td>\n",
       "      <td>Bushwick Middle School</td>\n",
       "      <td>5</td>\n",
       "      <td>10</td>\n",
       "      <td>Below Proficient</td>\n",
       "      <td>17</td>\n",
       "      <td>Advanced</td>\n",
       "    </tr>\n",
       "    <tr>\n",
       "      <th>28</th>\n",
       "      <td>10000029</td>\n",
       "      <td>Bushwick Middle School</td>\n",
       "      <td>5</td>\n",
       "      <td>12</td>\n",
       "      <td>Proficient</td>\n",
       "      <td>14</td>\n",
       "      <td>Proficient</td>\n",
       "    </tr>\n",
       "    <tr>\n",
       "      <th>29</th>\n",
       "      <td>10000030</td>\n",
       "      <td>Bushwick Middle School</td>\n",
       "      <td>5</td>\n",
       "      <td>12</td>\n",
       "      <td>Proficient</td>\n",
       "      <td>9</td>\n",
       "      <td>Remedial</td>\n",
       "    </tr>\n",
       "    <tr>\n",
       "      <th>30</th>\n",
       "      <td>10000031</td>\n",
       "      <td>Bushwick Middle School</td>\n",
       "      <td>5</td>\n",
       "      <td>13</td>\n",
       "      <td>Proficient</td>\n",
       "      <td>15</td>\n",
       "      <td>Proficient</td>\n",
       "    </tr>\n",
       "    <tr>\n",
       "      <th>31</th>\n",
       "      <td>10000032</td>\n",
       "      <td>Bushwick Middle School</td>\n",
       "      <td>5</td>\n",
       "      <td>12</td>\n",
       "      <td>Proficient</td>\n",
       "      <td>14</td>\n",
       "      <td>Proficient</td>\n",
       "    </tr>\n",
       "    <tr>\n",
       "      <th>32</th>\n",
       "      <td>10000033</td>\n",
       "      <td>Bushwick Middle School</td>\n",
       "      <td>5</td>\n",
       "      <td>11</td>\n",
       "      <td>Below Proficient</td>\n",
       "      <td>16</td>\n",
       "      <td>Advanced</td>\n",
       "    </tr>\n",
       "    <tr>\n",
       "      <th>33</th>\n",
       "      <td>10000034</td>\n",
       "      <td>Bushwick Middle School</td>\n",
       "      <td>5</td>\n",
       "      <td>9</td>\n",
       "      <td>Remedial</td>\n",
       "      <td>14</td>\n",
       "      <td>Proficient</td>\n",
       "    </tr>\n",
       "    <tr>\n",
       "      <th>34</th>\n",
       "      <td>10000035</td>\n",
       "      <td>Bushwick Middle School</td>\n",
       "      <td>5</td>\n",
       "      <td>12</td>\n",
       "      <td>Proficient</td>\n",
       "      <td>13</td>\n",
       "      <td>Below Proficient</td>\n",
       "    </tr>\n",
       "    <tr>\n",
       "      <th>35</th>\n",
       "      <td>10000036</td>\n",
       "      <td>Bushwick Middle School</td>\n",
       "      <td>5</td>\n",
       "      <td>16</td>\n",
       "      <td>Advanced</td>\n",
       "      <td>11</td>\n",
       "      <td>Remedial</td>\n",
       "    </tr>\n",
       "    <tr>\n",
       "      <th>36</th>\n",
       "      <td>10000037</td>\n",
       "      <td>Bushwick Middle School</td>\n",
       "      <td>5</td>\n",
       "      <td>12</td>\n",
       "      <td>Proficient</td>\n",
       "      <td>13</td>\n",
       "      <td>Below Proficient</td>\n",
       "    </tr>\n",
       "    <tr>\n",
       "      <th>37</th>\n",
       "      <td>10000038</td>\n",
       "      <td>Bushwick Middle School</td>\n",
       "      <td>5</td>\n",
       "      <td>13</td>\n",
       "      <td>Proficient</td>\n",
       "      <td>12</td>\n",
       "      <td>Below Proficient</td>\n",
       "    </tr>\n",
       "    <tr>\n",
       "      <th>38</th>\n",
       "      <td>10000039</td>\n",
       "      <td>Bushwick Middle School</td>\n",
       "      <td>5</td>\n",
       "      <td>12</td>\n",
       "      <td>Proficient</td>\n",
       "      <td>12</td>\n",
       "      <td>Below Proficient</td>\n",
       "    </tr>\n",
       "    <tr>\n",
       "      <th>39</th>\n",
       "      <td>10000040</td>\n",
       "      <td>Bushwick Middle School</td>\n",
       "      <td>5</td>\n",
       "      <td>12</td>\n",
       "      <td>Proficient</td>\n",
       "      <td>14</td>\n",
       "      <td>Proficient</td>\n",
       "    </tr>\n",
       "    <tr>\n",
       "      <th>40</th>\n",
       "      <td>10000041</td>\n",
       "      <td>Bushwick Middle School</td>\n",
       "      <td>5</td>\n",
       "      <td>15</td>\n",
       "      <td>Advanced</td>\n",
       "      <td>15</td>\n",
       "      <td>Proficient</td>\n",
       "    </tr>\n",
       "    <tr>\n",
       "      <th>41</th>\n",
       "      <td>10000042</td>\n",
       "      <td>Bushwick Middle School</td>\n",
       "      <td>5</td>\n",
       "      <td>10</td>\n",
       "      <td>Below Proficient</td>\n",
       "      <td>13</td>\n",
       "      <td>Below Proficient</td>\n",
       "    </tr>\n",
       "    <tr>\n",
       "      <th>42</th>\n",
       "      <td>10000043</td>\n",
       "      <td>Crown Heights Middle School</td>\n",
       "      <td>5</td>\n",
       "      <td>14</td>\n",
       "      <td>Advanced</td>\n",
       "      <td>12</td>\n",
       "      <td>Below Proficient</td>\n",
       "    </tr>\n",
       "    <tr>\n",
       "      <th>43</th>\n",
       "      <td>10000044</td>\n",
       "      <td>Bushwick Middle School</td>\n",
       "      <td>5</td>\n",
       "      <td>10</td>\n",
       "      <td>Below Proficient</td>\n",
       "      <td>14</td>\n",
       "      <td>Proficient</td>\n",
       "    </tr>\n",
       "    <tr>\n",
       "      <th>44</th>\n",
       "      <td>10000045</td>\n",
       "      <td>Crown Heights Middle School</td>\n",
       "      <td>5</td>\n",
       "      <td>13</td>\n",
       "      <td>Proficient</td>\n",
       "      <td>16</td>\n",
       "      <td>Advanced</td>\n",
       "    </tr>\n",
       "  </tbody>\n",
       "</table>\n",
       "</div>"
      ],
      "text/plain": [
       "    Student ID                  School_Name  Grade_Level  BOY_FP_Score  \\\n",
       "0     10000001       Bushwick Middle School            5            11   \n",
       "1     10000002       Bushwick Middle School            5            11   \n",
       "2     10000003  Crown Heights Middle School            5            11   \n",
       "3     10000004       Bushwick Middle School            5            11   \n",
       "4     10000005       Bushwick Middle School            5            11   \n",
       "5     10000006       Bushwick Middle School            5            11   \n",
       "6     10000007       Bushwick Middle School            5             8   \n",
       "7     10000008  Crown Heights Middle School            5            13   \n",
       "8     10000009  Crown Heights Middle School            5            13   \n",
       "9     10000010  Crown Heights Middle School            5            14   \n",
       "10    10000011  Crown Heights Middle School            5            13   \n",
       "11    10000012       Bushwick Middle School            5            11   \n",
       "12    10000013  Crown Heights Middle School            5            14   \n",
       "13    10000014       Bushwick Middle School            5            14   \n",
       "14    10000015  Crown Heights Middle School            5            13   \n",
       "15    10000016       Bushwick Middle School            5            12   \n",
       "16    10000017  Crown Heights Middle School            5            15   \n",
       "17    10000018       Bushwick Middle School            5            13   \n",
       "18    10000019       Bushwick Middle School            5            11   \n",
       "19    10000020       Bushwick Middle School            5            14   \n",
       "20    10000021  Crown Heights Middle School            5            13   \n",
       "21    10000022       Bushwick Middle School            5            10   \n",
       "22    10000023       Bushwick Middle School            5             9   \n",
       "23    10000024  Crown Heights Middle School            5            14   \n",
       "24    10000025       Bushwick Middle School            5            10   \n",
       "25    10000026  Crown Heights Middle School            5            14   \n",
       "26    10000027       Bushwick Middle School            5            10   \n",
       "27    10000028       Bushwick Middle School            5            10   \n",
       "28    10000029       Bushwick Middle School            5            12   \n",
       "29    10000030       Bushwick Middle School            5            12   \n",
       "30    10000031       Bushwick Middle School            5            13   \n",
       "31    10000032       Bushwick Middle School            5            12   \n",
       "32    10000033       Bushwick Middle School            5            11   \n",
       "33    10000034       Bushwick Middle School            5             9   \n",
       "34    10000035       Bushwick Middle School            5            12   \n",
       "35    10000036       Bushwick Middle School            5            16   \n",
       "36    10000037       Bushwick Middle School            5            12   \n",
       "37    10000038       Bushwick Middle School            5            13   \n",
       "38    10000039       Bushwick Middle School            5            12   \n",
       "39    10000040       Bushwick Middle School            5            12   \n",
       "40    10000041       Bushwick Middle School            5            15   \n",
       "41    10000042       Bushwick Middle School            5            10   \n",
       "42    10000043  Crown Heights Middle School            5            14   \n",
       "43    10000044       Bushwick Middle School            5            10   \n",
       "44    10000045  Crown Heights Middle School            5            13   \n",
       "\n",
       "                 BOY  EOY_FP_Score               EOY  \n",
       "0   Below Proficient            16          Advanced  \n",
       "1   Below Proficient            16          Advanced  \n",
       "2   Below Proficient            16          Advanced  \n",
       "3   Below Proficient            16          Advanced  \n",
       "4   Below Proficient            14        Proficient  \n",
       "5   Below Proficient            10          Remedial  \n",
       "6           Remedial            14        Proficient  \n",
       "7         Proficient            14        Proficient  \n",
       "8         Proficient            11          Remedial  \n",
       "9           Advanced            15        Proficient  \n",
       "10        Proficient            14        Proficient  \n",
       "11  Below Proficient            16          Advanced  \n",
       "12          Advanced            12  Below Proficient  \n",
       "13          Advanced            14        Proficient  \n",
       "14        Proficient            15        Proficient  \n",
       "15        Proficient            15        Proficient  \n",
       "16          Advanced            11          Remedial  \n",
       "17        Proficient            15        Proficient  \n",
       "18  Below Proficient            15        Proficient  \n",
       "19          Advanced            11          Remedial  \n",
       "20        Proficient            16          Advanced  \n",
       "21  Below Proficient            11          Remedial  \n",
       "22          Remedial            15        Proficient  \n",
       "23          Advanced            12  Below Proficient  \n",
       "24  Below Proficient            10          Remedial  \n",
       "25          Advanced            15        Proficient  \n",
       "26  Below Proficient            14        Proficient  \n",
       "27  Below Proficient            17          Advanced  \n",
       "28        Proficient            14        Proficient  \n",
       "29        Proficient             9          Remedial  \n",
       "30        Proficient            15        Proficient  \n",
       "31        Proficient            14        Proficient  \n",
       "32  Below Proficient            16          Advanced  \n",
       "33          Remedial            14        Proficient  \n",
       "34        Proficient            13  Below Proficient  \n",
       "35          Advanced            11          Remedial  \n",
       "36        Proficient            13  Below Proficient  \n",
       "37        Proficient            12  Below Proficient  \n",
       "38        Proficient            12  Below Proficient  \n",
       "39        Proficient            14        Proficient  \n",
       "40          Advanced            15        Proficient  \n",
       "41  Below Proficient            13  Below Proficient  \n",
       "42          Advanced            12  Below Proficient  \n",
       "43  Below Proficient            14        Proficient  \n",
       "44        Proficient            16          Advanced  "
      ]
     },
     "execution_count": 64,
     "metadata": {},
     "output_type": "execute_result"
    }
   ],
   "source": [
    "df3.head(45)"
   ]
  },
  {
   "cell_type": "code",
   "execution_count": 60,
   "metadata": {},
   "outputs": [
    {
     "data": {
      "text/plain": [
       "Student ID       0\n",
       "School Name      0\n",
       "Grade Level      0\n",
       "BOY F&P Score    0\n",
       "BOY              0\n",
       "EOY F&P Score    0\n",
       "EOY              0\n",
       "dtype: int64"
      ]
     },
     "execution_count": 60,
     "metadata": {},
     "output_type": "execute_result"
    }
   ],
   "source": [
    "df3.isnull().sum()"
   ]
  },
  {
   "cell_type": "code",
   "execution_count": 69,
   "metadata": {},
   "outputs": [
    {
     "data": {
      "text/html": [
       "<div>\n",
       "<style>\n",
       "    .dataframe thead tr:only-child th {\n",
       "        text-align: right;\n",
       "    }\n",
       "\n",
       "    .dataframe thead th {\n",
       "        text-align: left;\n",
       "    }\n",
       "\n",
       "    .dataframe tbody tr th {\n",
       "        vertical-align: top;\n",
       "    }\n",
       "</style>\n",
       "<table border=\"1\" class=\"dataframe\">\n",
       "  <thead>\n",
       "    <tr style=\"text-align: right;\">\n",
       "      <th></th>\n",
       "      <th>Student ID</th>\n",
       "      <th>Grade_Level</th>\n",
       "      <th>BOY_FP_Score</th>\n",
       "      <th>EOY_FP_Score</th>\n",
       "    </tr>\n",
       "  </thead>\n",
       "  <tbody>\n",
       "    <tr>\n",
       "      <th>count</th>\n",
       "      <td>3.760000e+02</td>\n",
       "      <td>376.000000</td>\n",
       "      <td>376.000000</td>\n",
       "      <td>376.000000</td>\n",
       "    </tr>\n",
       "    <tr>\n",
       "      <th>mean</th>\n",
       "      <td>1.000019e+07</td>\n",
       "      <td>5.529255</td>\n",
       "      <td>12.936170</td>\n",
       "      <td>16.380319</td>\n",
       "    </tr>\n",
       "    <tr>\n",
       "      <th>std</th>\n",
       "      <td>1.083334e+02</td>\n",
       "      <td>0.499808</td>\n",
       "      <td>2.113113</td>\n",
       "      <td>3.017555</td>\n",
       "    </tr>\n",
       "    <tr>\n",
       "      <th>min</th>\n",
       "      <td>1.000000e+07</td>\n",
       "      <td>5.000000</td>\n",
       "      <td>7.000000</td>\n",
       "      <td>9.000000</td>\n",
       "    </tr>\n",
       "    <tr>\n",
       "      <th>25%</th>\n",
       "      <td>1.000009e+07</td>\n",
       "      <td>5.000000</td>\n",
       "      <td>12.000000</td>\n",
       "      <td>14.000000</td>\n",
       "    </tr>\n",
       "    <tr>\n",
       "      <th>50%</th>\n",
       "      <td>1.000019e+07</td>\n",
       "      <td>6.000000</td>\n",
       "      <td>13.000000</td>\n",
       "      <td>16.000000</td>\n",
       "    </tr>\n",
       "    <tr>\n",
       "      <th>75%</th>\n",
       "      <td>1.000028e+07</td>\n",
       "      <td>6.000000</td>\n",
       "      <td>14.000000</td>\n",
       "      <td>19.000000</td>\n",
       "    </tr>\n",
       "    <tr>\n",
       "      <th>max</th>\n",
       "      <td>1.000038e+07</td>\n",
       "      <td>6.000000</td>\n",
       "      <td>21.000000</td>\n",
       "      <td>33.000000</td>\n",
       "    </tr>\n",
       "  </tbody>\n",
       "</table>\n",
       "</div>"
      ],
      "text/plain": [
       "         Student ID  Grade_Level  BOY_FP_Score  EOY_FP_Score\n",
       "count  3.760000e+02   376.000000    376.000000    376.000000\n",
       "mean   1.000019e+07     5.529255     12.936170     16.380319\n",
       "std    1.083334e+02     0.499808      2.113113      3.017555\n",
       "min    1.000000e+07     5.000000      7.000000      9.000000\n",
       "25%    1.000009e+07     5.000000     12.000000     14.000000\n",
       "50%    1.000019e+07     6.000000     13.000000     16.000000\n",
       "75%    1.000028e+07     6.000000     14.000000     19.000000\n",
       "max    1.000038e+07     6.000000     21.000000     33.000000"
      ]
     },
     "execution_count": 69,
     "metadata": {},
     "output_type": "execute_result"
    }
   ],
   "source": [
    "df3.describe()"
   ]
  },
  {
   "cell_type": "code",
   "execution_count": 73,
   "metadata": {},
   "outputs": [
    {
     "data": {
      "image/png": "[encoded data removed]",
      "text/plain": [
       "<matplotlib.figure.Figure at 0xddc80b8>"
      ]
     },
     "metadata": {},
     "output_type": "display_data"
    }
   ],
   "source": [
    "ax = sns.boxplot(x=\"Grade_Level\", y=\"BOY_FP_Score\", data=df3)"
   ]
  },
  {
   "cell_type": "code",
   "execution_count": 74,
   "metadata": {},
   "outputs": [
    {
     "data": {
      "image/png": "[encoded data removed]",
      "text/plain": [
       "<matplotlib.figure.Figure at 0xccbf080>"
      ]
     },
     "metadata": {},
     "output_type": "display_data"
    }
   ],
   "source": [
    "ax = sns.boxplot(x=\"Grade_Level\", y=\"EOY_FP_Score\", data=df3)"
   ]
  },
  {
   "cell_type": "code",
   "execution_count": 75,
   "metadata": {},
   "outputs": [
    {
     "data": {
      "image/png": "[encoded data removed]",
      "text/plain": [
       "<matplotlib.figure.Figure at 0xe5b74a8>"
      ]
     },
     "metadata": {},
     "output_type": "display_data"
    }
   ],
   "source": [
    "ax = sns.boxplot(x=\"School_Name\", y=\"EOY_FP_Score\", data=df3)"
   ]
  },
  {
   "cell_type": "code",
   "execution_count": 76,
   "metadata": {},
   "outputs": [
    {
     "data": {
      "image/png": "[encoded data removed]",
      "text/plain": [
       "<matplotlib.figure.Figure at 0x7039748>"
      ]
     },
     "metadata": {},
     "output_type": "display_data"
    }
   ],
   "source": [
    "ax = sns.boxplot(x=\"School_Name\", y=\"BOY_FP_Score\", data=df3)"
   ]
  },
  {
   "cell_type": "code",
   "execution_count": 84,
   "metadata": {},
   "outputs": [
    {
     "data": {
      "image/png": "[encoded data removed]",
      "text/plain": [
       "<matplotlib.figure.Figure at 0xde570b8>"
      ]
     },
     "metadata": {},
     "output_type": "display_data"
    }
   ],
   "source": [
    "sns.boxplot(x=\"School_Name\", y=\"BOY_FP_Score\", hue=\"Grade_Level\", data=df3);"
   ]
  },
  {
   "cell_type": "code",
   "execution_count": 85,
   "metadata": {},
   "outputs": [
    {
     "data": {
      "image/png": "[encoded data removed]",
      "text/plain": [
       "<matplotlib.figure.Figure at 0xd937d30>"
      ]
     },
     "metadata": {},
     "output_type": "display_data"
    }
   ],
   "source": [
    "sns.boxplot(x=\"School_Name\", y=\"EOY_FP_Score\", hue=\"Grade_Level\", data=df3);"
   ]
  },
  {
   "cell_type": "code",
   "execution_count": null,
   "metadata": {
    "collapsed": true
   },
   "outputs": [],
   "source": [
    "df[['a', 'b']] = df[['a','b']].fillna(value=0)\n",
    "bushwick_6 = bushwick[bushwick['Grade_Level'] == 6]\n",
    "\n",
    "women_users = sub1[sub1[\"sex\"] == \"f\"]\n",
    "male_users = sub1[sub1[\"sex\"]== \"m\"]\n",
    "\n",
    "women_1824 = women_users[(women_users.age==18) & (women_users.age<=24)]\n",
    "\n",
    "def get_rid_of_nulls(value):\n",
    "     if value == np.nan:\n",
    "        return 'Is Null value'\n",
    "     else:\n",
    "        return value\n",
    "    \n",
    "    fruits = [\"apple\", \"banana\", \"cherry\"]\n",
    "for x in fruits:\n",
    "  print(x)\n",
    "\n",
    "df = pd.DataFrame({'Type':list('ABBC'), 'Set':list('ZZXY')})\n",
    "conditions = [\n",
    "    (df['Set'] == 'Z') & (df['Type'] == 'A'),\n",
    "    (df['Set'] == 'Z') & (df['Type'] == 'B'),\n",
    "    (df['Type'] == 'B')]\n",
    "choices = ['yellow', 'blue', 'purple']\n",
    "df['color'] = np.select(conditions, choices, default='black')\n",
    "print(df)\n",
    "\n",
    "t2.set_index('letters',inplace=True)\n",
    "t2_map = t2.target.to_dict()\n",
    "{'a': 'ddd', 'b': 'eee', 'c': 'fff'}\n",
    "t1['target']=t1.letters.map(t2_map)\n",
    "t1\n",
    "\n",
    "      numbers letters target\n",
    "0     1623       a    ddd\n",
    "1     3266       b    eee\n",
    "2     3672       c    fff"
   ]
  },
  {
   "cell_type": "code",
   "execution_count": null,
   "metadata": {
    "collapsed": true
   },
   "outputs": [],
   "source": [
    "boy_list = ['Remedial','Below Proficient','Proficient','Advanced']\n",
    "conditions \n",
    "df fill_BOY(value): \n",
    "    if value "
   ]
  },
  {
   "cell_type": "code",
   "execution_count": null,
   "metadata": {
    "collapsed": true
   },
   "outputs": [],
   "source": [
    "df3 = pd.df3({'BOY_FP_Score':list('123456789'),'Grade_Level':list('5')})\n",
    "df3"
   ]
  },
  {
   "cell_type": "code",
   "execution_count": null,
   "metadata": {
    "collapsed": true
   },
   "outputs": [],
   "source": [
    "df3[['BOY']] = df3[['BOY']].fillna(value=)"
   ]
  },
  {
   "cell_type": "code",
   "execution_count": 113,
   "metadata": {
    "collapsed": true
   },
   "outputs": [],
   "source": [
    "df3 = df3.replace(' ',np.NaN)"
   ]
  },
  {
   "cell_type": "code",
   "execution_count": 162,
   "metadata": {
    "collapsed": true
   },
   "outputs": [],
   "source": [
    "df3 = df3.fillna(df3.mean(),inplace=True)"
   ]
  },
  {
   "cell_type": "code",
   "execution_count": 175,
   "metadata": {},
   "outputs": [
    {
     "data": {
      "text/plain": [
       "Student ID      376\n",
       "School_Name     376\n",
       "Grade_Level     376\n",
       "BOY_FP_Score    376\n",
       "BOY             278\n",
       "EOY_FP_Score    376\n",
       "EOY             366\n",
       "dtype: int64"
      ]
     },
     "execution_count": 175,
     "metadata": {},
     "output_type": "execute_result"
    }
   ],
   "source": [
    "df3.count()"
   ]
  },
  {
   "cell_type": "code",
   "execution_count": 181,
   "metadata": {},
   "outputs": [
    {
     "data": {
      "text/plain": [
       "Student ID       0\n",
       "School_Name      0\n",
       "Grade_Level      0\n",
       "BOY_FP_Score     0\n",
       "BOY             98\n",
       "EOY_FP_Score     0\n",
       "EOY             10\n",
       "dtype: int64"
      ]
     },
     "execution_count": 181,
     "metadata": {},
     "output_type": "execute_result"
    }
   ],
   "source": [
    "df.isnull().sum()"
   ]
  },
  {
   "cell_type": "code",
   "execution_count": 39,
   "metadata": {},
   "outputs": [
    {
     "data": {
      "text/plain": [
       "12.867384    97\n",
       "14.000000    48\n",
       "13.000000    45\n",
       "12.000000    41\n",
       "11.000000    35\n",
       "15.000000    34\n",
       "10.000000    23\n",
       "16.000000    15\n",
       "8.000000     11\n",
       "17.000000     7\n",
       "9.000000      7\n",
       "18.000000     4\n",
       "7.000000      2\n",
       "21.000000     2\n",
       "20.000000     2\n",
       "19.000000     2\n",
       "0.000000      1\n",
       "Name: BOY_FP_Score, dtype: int64"
      ]
     },
     "execution_count": 39,
     "metadata": {},
     "output_type": "execute_result"
    }
   ],
   "source": [
    "df3.BOY_FP_Score.value_counts()"
   ]
  },
  {
   "cell_type": "code",
   "execution_count": 42,
   "metadata": {},
   "outputs": [
    {
     "data": {
      "text/plain": [
       "14.0    48\n",
       "13.0    45\n",
       "12.0    41\n",
       "11.0    35\n",
       "15.0    34\n",
       "10.0    23\n",
       "16.0    15\n",
       "8.0     11\n",
       "17.0     7\n",
       "9.0      7\n",
       "18.0     4\n",
       "21.0     2\n",
       "19.0     2\n",
       "20.0     2\n",
       "7.0      2\n",
       "0.0      1\n",
       "Name: BOY_FP_Score, dtype: int64"
      ]
     },
     "execution_count": 42,
     "metadata": {},
     "output_type": "execute_result"
    }
   ],
   "source": [
    "df.BOY_FP_Score.value_counts()"
   ]
  },
  {
   "cell_type": "code",
   "execution_count": null,
   "metadata": {
    "collapsed": true
   },
   "outputs": [],
   "source": [
    "rename column and remove & \n",
    "create 3 data frame \n",
    "\n",
    "import the ollowing \n",
    "\n",
    "from scipy import stats\n",
    "import numpy as np\n",
    "import seaborn as sns\n",
    "import matplotlib.pyplot as plt\n",
    "from matplotlib import cm \n",
    "\n",
    "%matplotlib inline \n",
    "\n",
    "remember \n",
    "df.info\n",
    "df.decribe\n",
    "df.hape\n",
    "df.column\n",
    "df.head\n",
    "df.inull().um()\n",
    "df.rename(columns={'oldName1': 'newName1', 'oldName2': 'newName2'}, inplace=True)\n",
    "\n",
    "df[['a', 'b']] = df[['a','b']].fillna(value=0) Use this to replace just certain columns null values\n",
    "\n",
    "\n",
    "\n",
    "Assuming that the three columns in your dataframe are a, b and c. Then you can do the required operation like this:\n",
    "\n",
    "values = df['a'] * df['b']\n",
    "df['c'] = values.where(df['c'] == np.nan, others=df['c'])\n",
    "\n",
    "\n",
    "def get_rid_of_nulls(value):\n",
    "     if value == np.nan:\n",
    "        return 'Is Null value'\n",
    "     else:\n",
    "        return value\n",
    "\n",
    "    \n",
    "    df3 = df3.replace(' ',np.NaN)"
   ]
  }
 ],
 "metadata": {
  "kernelspec": {
   "display_name": "Python 2",
   "language": "python",
   "name": "python2"
  },
  "language_info": {
   "codemirror_mode": {
    "name": "ipython",
    "version": 2
   },
   "file_extension": ".py",
   "mimetype": "text/x-python",
   "name": "python",
   "nbconvert_exporter": "python",
   "pygments_lexer": "ipython2",
   "version": "2.7.13"
  }
 },
 "nbformat": 4,
 "nbformat_minor": 2
}
